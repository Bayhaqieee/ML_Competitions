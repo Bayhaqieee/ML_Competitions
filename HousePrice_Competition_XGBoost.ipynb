{
  "nbformat": 4,
  "nbformat_minor": 0,
  "metadata": {
    "colab": {
      "provenance": [],
      "mount_file_id": "1oV2A2mi6TWoYsuzup3a2LqP8WJVijwiU",
      "authorship_tag": "ABX9TyMXbiWB3ZsuD7ge7lsFne/J"
    },
    "kernelspec": {
      "name": "python3",
      "display_name": "Python 3"
    },
    "language_info": {
      "name": "python"
    }
  },
  "cells": [
    {
      "cell_type": "code",
      "execution_count": 2,
      "metadata": {
        "colab": {
          "base_uri": "https://localhost:8080/"
        },
        "id": "4sQroeAEb0LG",
        "outputId": "897675c6-973e-484a-c318-0995d5645003"
      },
      "outputs": [
        {
          "output_type": "stream",
          "name": "stdout",
          "text": [
            "Requirement already satisfied: pandas in /usr/local/lib/python3.11/dist-packages (2.2.2)\n",
            "Requirement already satisfied: numpy>=1.23.2 in /usr/local/lib/python3.11/dist-packages (from pandas) (1.26.4)\n",
            "Requirement already satisfied: python-dateutil>=2.8.2 in /usr/local/lib/python3.11/dist-packages (from pandas) (2.8.2)\n",
            "Requirement already satisfied: pytz>=2020.1 in /usr/local/lib/python3.11/dist-packages (from pandas) (2025.1)\n",
            "Requirement already satisfied: tzdata>=2022.7 in /usr/local/lib/python3.11/dist-packages (from pandas) (2025.1)\n",
            "Requirement already satisfied: six>=1.5 in /usr/local/lib/python3.11/dist-packages (from python-dateutil>=2.8.2->pandas) (1.17.0)\n",
            "Requirement already satisfied: numpy in /usr/local/lib/python3.11/dist-packages (1.26.4)\n",
            "Requirement already satisfied: scikit-learn in /usr/local/lib/python3.11/dist-packages (1.6.1)\n",
            "Requirement already satisfied: numpy>=1.19.5 in /usr/local/lib/python3.11/dist-packages (from scikit-learn) (1.26.4)\n",
            "Requirement already satisfied: scipy>=1.6.0 in /usr/local/lib/python3.11/dist-packages (from scikit-learn) (1.13.1)\n",
            "Requirement already satisfied: joblib>=1.2.0 in /usr/local/lib/python3.11/dist-packages (from scikit-learn) (1.4.2)\n",
            "Requirement already satisfied: threadpoolctl>=3.1.0 in /usr/local/lib/python3.11/dist-packages (from scikit-learn) (3.5.0)\n",
            "Requirement already satisfied: xgboost in /usr/local/lib/python3.11/dist-packages (2.1.3)\n",
            "Requirement already satisfied: numpy in /usr/local/lib/python3.11/dist-packages (from xgboost) (1.26.4)\n",
            "Requirement already satisfied: nvidia-nccl-cu12 in /usr/local/lib/python3.11/dist-packages (from xgboost) (2.21.5)\n",
            "Requirement already satisfied: scipy in /usr/local/lib/python3.11/dist-packages (from xgboost) (1.13.1)\n",
            "Collecting optuna\n",
            "  Downloading optuna-4.2.1-py3-none-any.whl.metadata (17 kB)\n",
            "Collecting alembic>=1.5.0 (from optuna)\n",
            "  Downloading alembic-1.14.1-py3-none-any.whl.metadata (7.4 kB)\n",
            "Collecting colorlog (from optuna)\n",
            "  Downloading colorlog-6.9.0-py3-none-any.whl.metadata (10 kB)\n",
            "Requirement already satisfied: numpy in /usr/local/lib/python3.11/dist-packages (from optuna) (1.26.4)\n",
            "Requirement already satisfied: packaging>=20.0 in /usr/local/lib/python3.11/dist-packages (from optuna) (24.2)\n",
            "Requirement already satisfied: sqlalchemy>=1.4.2 in /usr/local/lib/python3.11/dist-packages (from optuna) (2.0.37)\n",
            "Requirement already satisfied: tqdm in /usr/local/lib/python3.11/dist-packages (from optuna) (4.67.1)\n",
            "Requirement already satisfied: PyYAML in /usr/local/lib/python3.11/dist-packages (from optuna) (6.0.2)\n",
            "Collecting Mako (from alembic>=1.5.0->optuna)\n",
            "  Downloading Mako-1.3.9-py3-none-any.whl.metadata (2.9 kB)\n",
            "Requirement already satisfied: typing-extensions>=4 in /usr/local/lib/python3.11/dist-packages (from alembic>=1.5.0->optuna) (4.12.2)\n",
            "Requirement already satisfied: greenlet!=0.4.17 in /usr/local/lib/python3.11/dist-packages (from sqlalchemy>=1.4.2->optuna) (3.1.1)\n",
            "Requirement already satisfied: MarkupSafe>=0.9.2 in /usr/local/lib/python3.11/dist-packages (from Mako->alembic>=1.5.0->optuna) (3.0.2)\n",
            "Downloading optuna-4.2.1-py3-none-any.whl (383 kB)\n",
            "\u001b[2K   \u001b[90m━━━━━━━━━━━━━━━━━━━━━━━━━━━━━━━━━━━━━━━━\u001b[0m \u001b[32m383.6/383.6 kB\u001b[0m \u001b[31m7.4 MB/s\u001b[0m eta \u001b[36m0:00:00\u001b[0m\n",
            "\u001b[?25hDownloading alembic-1.14.1-py3-none-any.whl (233 kB)\n",
            "\u001b[2K   \u001b[90m━━━━━━━━━━━━━━━━━━━━━━━━━━━━━━━━━━━━━━━━\u001b[0m \u001b[32m233.6/233.6 kB\u001b[0m \u001b[31m15.0 MB/s\u001b[0m eta \u001b[36m0:00:00\u001b[0m\n",
            "\u001b[?25hDownloading colorlog-6.9.0-py3-none-any.whl (11 kB)\n",
            "Downloading Mako-1.3.9-py3-none-any.whl (78 kB)\n",
            "\u001b[2K   \u001b[90m━━━━━━━━━━━━━━━━━━━━━━━━━━━━━━━━━━━━━━━━\u001b[0m \u001b[32m78.5/78.5 kB\u001b[0m \u001b[31m4.2 MB/s\u001b[0m eta \u001b[36m0:00:00\u001b[0m\n",
            "\u001b[?25hInstalling collected packages: Mako, colorlog, alembic, optuna\n",
            "Successfully installed Mako-1.3.9 alembic-1.14.1 colorlog-6.9.0 optuna-4.2.1\n"
          ]
        }
      ],
      "source": [
        "!pip install pandas\n",
        "!pip install numpy\n",
        "!pip install scikit-learn\n",
        "!pip install xgboost\n",
        "!pip install optuna"
      ]
    },
    {
      "cell_type": "code",
      "source": [
        "import pandas as pd\n",
        "from sklearn.model_selection import train_test_split\n",
        "from sklearn.preprocessing import OneHotEncoder, StandardScaler\n",
        "import xgboost as xgb\n",
        "import optuna\n",
        "from sklearn.metrics import mean_squared_error"
      ],
      "metadata": {
        "id": "RcIrQ80Lag-D"
      },
      "execution_count": 3,
      "outputs": []
    },
    {
      "cell_type": "code",
      "source": [
        "! mkdir ~/.kaggle"
      ],
      "metadata": {
        "id": "k3xYcitIbnxk"
      },
      "execution_count": 4,
      "outputs": []
    },
    {
      "cell_type": "code",
      "source": [
        "!cp /content/drive/MyDrive/CollabData/kaggle_API/kaggle.json ~/.kaggle/kaggle.json"
      ],
      "metadata": {
        "id": "mnkqlepJbrsS"
      },
      "execution_count": 5,
      "outputs": []
    },
    {
      "cell_type": "code",
      "source": [
        "! chmod 600 ~/.kaggle/kaggle.json"
      ],
      "metadata": {
        "id": "eSpCymNdbrgd"
      },
      "execution_count": 6,
      "outputs": []
    },
    {
      "cell_type": "code",
      "source": [
        "! kaggle competitions download home-data-for-ml-course"
      ],
      "metadata": {
        "colab": {
          "base_uri": "https://localhost:8080/"
        },
        "id": "szU1ARtBbyPI",
        "outputId": "c7cddc73-60ff-4a1c-92a4-dbf5d5a1b617"
      },
      "execution_count": 7,
      "outputs": [
        {
          "output_type": "stream",
          "name": "stdout",
          "text": [
            "Downloading home-data-for-ml-course.zip to /content\n",
            "\r  0% 0.00/386k [00:00<?, ?B/s]\n",
            "\r100% 386k/386k [00:00<00:00, 62.5MB/s]\n"
          ]
        }
      ]
    },
    {
      "cell_type": "code",
      "source": [
        "! unzip home-data-for-ml-course.zip"
      ],
      "metadata": {
        "colab": {
          "base_uri": "https://localhost:8080/"
        },
        "id": "PHYiha3IcczE",
        "outputId": "d0bc812f-1875-4716-cc21-0c794d4858a3"
      },
      "execution_count": 8,
      "outputs": [
        {
          "output_type": "stream",
          "name": "stdout",
          "text": [
            "Archive:  home-data-for-ml-course.zip\n",
            "  inflating: data_description.txt    \n",
            "  inflating: sample_submission.csv   \n",
            "  inflating: sample_submission.csv.gz  \n",
            "  inflating: test.csv                \n",
            "  inflating: test.csv.gz             \n",
            "  inflating: train.csv               \n",
            "  inflating: train.csv.gz            \n"
          ]
        }
      ]
    },
    {
      "cell_type": "code",
      "source": [
        "# Load the data\n",
        "train_df = pd.read_csv('train.csv')\n",
        "test_df = pd.read_csv('test.csv')\n",
        "\n",
        "# Separate features and target variable\n",
        "X = train_df.drop('SalePrice', axis=1)\n",
        "y = train_df['SalePrice']\n",
        "\n",
        "# Split data into training and validation sets\n",
        "X_train, X_val, y_train, y_val = train_test_split(X, y, test_size=0.2, random_state=42)\n",
        "\n",
        "# Preprocessing: Handling categorical and numerical features\n",
        "categorical_features = X.select_dtypes(include=['object']).columns\n",
        "numerical_features = X.select_dtypes(exclude=['object']).columns\n",
        "\n",
        "# One-hot encoding for categorical features\n",
        "# -- Change 1: Add prefix to encoded columns to prevent name collisions --\n",
        "encoder = OneHotEncoder(handle_unknown='ignore', sparse_output=False, categories='auto')\n",
        "X_train_encoded = pd.DataFrame(encoder.fit_transform(X_train[categorical_features]),\n",
        "                               columns=encoder.get_feature_names_out(categorical_features))\n",
        "X_val_encoded = pd.DataFrame(encoder.transform(X_val[categorical_features]),\n",
        "                             columns=encoder.get_feature_names_out(categorical_features))\n",
        "X_test_encoded = pd.DataFrame(encoder.transform(test_df[categorical_features]),\n",
        "                              columns=encoder.get_feature_names_out(categorical_features))\n",
        "\n",
        "# Scaling numerical features\n",
        "scaler = StandardScaler()\n",
        "X_train_scaled = pd.DataFrame(scaler.fit_transform(X_train[numerical_features]),\n",
        "                              columns=numerical_features) #-- Change 2: Add columns names for scaled features --\n",
        "X_val_scaled = pd.DataFrame(scaler.transform(X_val[numerical_features]),\n",
        "                             columns=numerical_features)  #-- Change 2: Add columns names for scaled features --\n",
        "X_test_scaled = pd.DataFrame(scaler.transform(test_df[numerical_features]),\n",
        "                              columns=numerical_features) #-- Change 2: Add columns names for scaled features --\n",
        "\n",
        "\n",
        "# Concatenate encoded and scaled features\n",
        "X_train_processed = pd.concat([X_train_scaled, X_train_encoded], axis=1)\n",
        "X_val_processed = pd.concat([X_val_scaled, X_val_encoded], axis=1)\n",
        "X_test_processed = pd.concat([X_test_scaled, X_test_encoded], axis=1)\n",
        "\n",
        "# -- Change 3: Reset index to avoid potential issues with misaligned indices --\n",
        "X_train_processed = X_train_processed.reset_index(drop=True)\n",
        "X_val_processed = X_val_processed.reset_index(drop=True)\n",
        "X_test_processed = X_test_processed.reset_index(drop=True)"
      ],
      "metadata": {
        "id": "_t8VdP0Fbh-O"
      },
      "execution_count": 9,
      "outputs": []
    },
    {
      "cell_type": "code",
      "source": [
        "def objective(trial):\n",
        "    params = {\n",
        "        'objective': 'reg:squarederror',\n",
        "        'eval_metric': 'rmse',\n",
        "        'booster': 'gbtree',\n",
        "        'lambda': trial.suggest_float('lambda', 1e-8, 1.0, log=True),\n",
        "        'alpha': trial.suggest_float('alpha', 1e-8, 1.0, log=True),\n",
        "        'colsample_bytree': trial.suggest_float('colsample_bytree', 0.3, 1.0),\n",
        "        'subsample': trial.suggest_float('subsample', 0.4, 1.0),\n",
        "        'learning_rate': trial.suggest_float('learning_rate', 5e-5, 0.1, log=True),\n",
        "        'n_estimators': trial.suggest_int('n_estimators', 100, 1000),\n",
        "        'max_depth': trial.suggest_int('max_depth', 3, 10),\n",
        "        'min_child_weight': trial.suggest_int('min_child_weight', 1, 10),\n",
        "        'gamma': trial.suggest_float('gamma', 0, 1),\n",
        "        'early_stopping_rounds':10\n",
        "    }\n",
        "\n",
        "    model = xgb.XGBRegressor(**params)\n",
        "    model.fit(X_train_processed, y_train,\n",
        "              eval_set=[(X_val_processed, y_val)],\n",
        "              verbose=False)  # Remove early_stopping_rounds here\n",
        "    return model.best_score"
      ],
      "metadata": {
        "id": "yMeIKtCDcuBj"
      },
      "execution_count": 16,
      "outputs": []
    },
    {
      "cell_type": "code",
      "source": [
        "# Create and run an Optuna study\n",
        "study = optuna.create_study(direction='minimize')\n",
        "study.optimize(objective, n_trials=100)\n",
        "\n",
        "# Get the best hyperparameters\n",
        "best_params = study.best_params"
      ],
      "metadata": {
        "colab": {
          "base_uri": "https://localhost:8080/"
        },
        "id": "GZkLXPZ0eUN2",
        "outputId": "9ed1627a-44ee-472c-d9cc-638ae7fc6cac"
      },
      "execution_count": 17,
      "outputs": [
        {
          "output_type": "stream",
          "name": "stderr",
          "text": [
            "[I 2025-02-12 15:44:54,733] A new study created in memory with name: no-name-3c94dd93-a9e2-464a-86f5-4281fd43297e\n",
            "[I 2025-02-12 15:44:58,537] Trial 0 finished with value: 25672.669265020413 and parameters: {'lambda': 0.02598249428810433, 'alpha': 0.008742223598216022, 'colsample_bytree': 0.7419622511314616, 'subsample': 0.5896378400877342, 'learning_rate': 0.013999847477215496, 'n_estimators': 750, 'max_depth': 6, 'min_child_weight': 1, 'gamma': 0.40371164441420504}. Best is trial 0 with value: 25672.669265020413.\n",
            "[I 2025-02-12 15:45:04,574] Trial 1 finished with value: 28942.852334354462 and parameters: {'lambda': 0.07411029941766116, 'alpha': 0.0007880082508848221, 'colsample_bytree': 0.8354287342531477, 'subsample': 0.5153749236227795, 'learning_rate': 0.00540827338300066, 'n_estimators': 704, 'max_depth': 10, 'min_child_weight': 10, 'gamma': 0.594316306906483}. Best is trial 0 with value: 25672.669265020413.\n",
            "[I 2025-02-12 15:45:11,133] Trial 2 finished with value: 74000.16089308892 and parameters: {'lambda': 8.012866677207464e-05, 'alpha': 0.14278907317243417, 'colsample_bytree': 0.721159019206906, 'subsample': 0.649090766152034, 'learning_rate': 0.0005457498169919192, 'n_estimators': 436, 'max_depth': 7, 'min_child_weight': 10, 'gamma': 0.02389133494461715}. Best is trial 0 with value: 25672.669265020413.\n",
            "[I 2025-02-12 15:45:12,234] Trial 3 finished with value: 27371.529144747954 and parameters: {'lambda': 0.00030635201916882817, 'alpha': 6.275253483916405e-07, 'colsample_bytree': 0.567135012407809, 'subsample': 0.4860441669027939, 'learning_rate': 0.03920803556978902, 'n_estimators': 486, 'max_depth': 9, 'min_child_weight': 9, 'gamma': 0.63881953114421}. Best is trial 0 with value: 25672.669265020413.\n",
            "[I 2025-02-12 15:45:18,381] Trial 4 finished with value: 82151.63586741254 and parameters: {'lambda': 0.11003181885994272, 'alpha': 3.4024578372518177e-06, 'colsample_bytree': 0.7395631292418064, 'subsample': 0.5042069484255367, 'learning_rate': 9.778400956561562e-05, 'n_estimators': 939, 'max_depth': 5, 'min_child_weight': 7, 'gamma': 0.27632103054774804}. Best is trial 0 with value: 25672.669265020413.\n",
            "[I 2025-02-12 15:45:24,363] Trial 5 finished with value: 46076.45831603683 and parameters: {'lambda': 2.3616562595780594e-06, 'alpha': 8.023675422440498e-08, 'colsample_bytree': 0.6737475128826345, 'subsample': 0.7957849194131709, 'learning_rate': 0.001952755984993313, 'n_estimators': 566, 'max_depth': 4, 'min_child_weight': 1, 'gamma': 0.20274418570521124}. Best is trial 0 with value: 25672.669265020413.\n",
            "[I 2025-02-12 15:45:28,883] Trial 6 finished with value: 29675.154366732007 and parameters: {'lambda': 4.571411902052837e-08, 'alpha': 0.0006605113148241581, 'colsample_bytree': 0.6026036206304111, 'subsample': 0.9289232662074176, 'learning_rate': 0.004223328619043076, 'n_estimators': 991, 'max_depth': 3, 'min_child_weight': 8, 'gamma': 0.8452677453127903}. Best is trial 0 with value: 25672.669265020413.\n",
            "[I 2025-02-12 15:45:29,580] Trial 7 finished with value: 82635.72242616715 and parameters: {'lambda': 4.955127361331457e-06, 'alpha': 5.513263830676512e-07, 'colsample_bytree': 0.3321204442644064, 'subsample': 0.7168091370463427, 'learning_rate': 0.0008113866285453901, 'n_estimators': 110, 'max_depth': 4, 'min_child_weight': 5, 'gamma': 0.9606005913992038}. Best is trial 0 with value: 25672.669265020413.\n",
            "[I 2025-02-12 15:45:36,725] Trial 8 finished with value: 56184.55771866357 and parameters: {'lambda': 1.3493276733810478e-06, 'alpha': 0.02343125458978121, 'colsample_bytree': 0.38407997826866364, 'subsample': 0.9542978183337861, 'learning_rate': 0.0019110333002895468, 'n_estimators': 331, 'max_depth': 9, 'min_child_weight': 3, 'gamma': 0.07604411918531184}. Best is trial 0 with value: 25672.669265020413.\n",
            "[I 2025-02-12 15:45:39,583] Trial 9 finished with value: 27408.404717543417 and parameters: {'lambda': 8.34435537136711e-07, 'alpha': 0.0006080754739392171, 'colsample_bytree': 0.6757540553870446, 'subsample': 0.9661917541607193, 'learning_rate': 0.008966267678359369, 'n_estimators': 526, 'max_depth': 4, 'min_child_weight': 8, 'gamma': 0.029894167766586155}. Best is trial 0 with value: 25672.669265020413.\n",
            "[I 2025-02-12 15:45:41,225] Trial 10 finished with value: 25727.81081779595 and parameters: {'lambda': 0.002857879825190182, 'alpha': 0.5649546085075605, 'colsample_bytree': 0.9978890577464242, 'subsample': 0.6175397514302348, 'learning_rate': 0.06855604470821645, 'n_estimators': 740, 'max_depth': 7, 'min_child_weight': 1, 'gamma': 0.39062966869489124}. Best is trial 0 with value: 25672.669265020413.\n",
            "[I 2025-02-12 15:45:42,437] Trial 11 finished with value: 26127.60630643811 and parameters: {'lambda': 0.004276719686852927, 'alpha': 0.653433144411167, 'colsample_bytree': 0.9709705681424012, 'subsample': 0.6206418612389942, 'learning_rate': 0.09439556539808489, 'n_estimators': 802, 'max_depth': 7, 'min_child_weight': 1, 'gamma': 0.3908329391716095}. Best is trial 0 with value: 25672.669265020413.\n",
            "[I 2025-02-12 15:45:44,943] Trial 12 finished with value: 25410.338851115408 and parameters: {'lambda': 0.8234696026994816, 'alpha': 0.01762224925355025, 'colsample_bytree': 0.9648572345116974, 'subsample': 0.4151016990090275, 'learning_rate': 0.020951992200551755, 'n_estimators': 757, 'max_depth': 6, 'min_child_weight': 3, 'gamma': 0.5040983657917035}. Best is trial 12 with value: 25410.338851115408.\n",
            "[I 2025-02-12 15:45:50,080] Trial 13 finished with value: 25368.139395800135 and parameters: {'lambda': 0.7416547314856808, 'alpha': 0.021232948377044977, 'colsample_bytree': 0.8521423373643375, 'subsample': 0.4129723809105111, 'learning_rate': 0.018279690048229102, 'n_estimators': 661, 'max_depth': 6, 'min_child_weight': 3, 'gamma': 0.7071209828423421}. Best is trial 13 with value: 25368.139395800135.\n",
            "[I 2025-02-12 15:45:51,735] Trial 14 finished with value: 25657.14489697809 and parameters: {'lambda': 0.4848466476802685, 'alpha': 4.6708724706372496e-05, 'colsample_bytree': 0.8891840487192008, 'subsample': 0.42841649923839265, 'learning_rate': 0.026007489982657363, 'n_estimators': 633, 'max_depth': 6, 'min_child_weight': 4, 'gamma': 0.734784114260738}. Best is trial 13 with value: 25368.139395800135.\n",
            "[I 2025-02-12 15:45:54,661] Trial 15 finished with value: 26121.10212593766 and parameters: {'lambda': 0.9673271583659535, 'alpha': 0.01783905584154205, 'colsample_bytree': 0.8574213149387518, 'subsample': 0.4006030312735251, 'learning_rate': 0.018039504053278133, 'n_estimators': 323, 'max_depth': 8, 'min_child_weight': 3, 'gamma': 0.5603004973013559}. Best is trial 13 with value: 25368.139395800135.\n",
            "[I 2025-02-12 15:45:56,096] Trial 16 finished with value: 25404.88818778236 and parameters: {'lambda': 0.005791044801807186, 'alpha': 4.016636467725431e-05, 'colsample_bytree': 0.9099640920888339, 'subsample': 0.7392308479617137, 'learning_rate': 0.04284868224468215, 'n_estimators': 866, 'max_depth': 5, 'min_child_weight': 3, 'gamma': 0.7396897285694857}. Best is trial 13 with value: 25368.139395800135.\n",
            "[I 2025-02-12 15:45:57,127] Trial 17 finished with value: 25400.492878490502 and parameters: {'lambda': 0.0025965556966980946, 'alpha': 2.133668116393324e-05, 'colsample_bytree': 0.5143180987698749, 'subsample': 0.7965243550667589, 'learning_rate': 0.050140469987329864, 'n_estimators': 876, 'max_depth': 5, 'min_child_weight': 5, 'gamma': 0.7532417882232632}. Best is trial 13 with value: 25368.139395800135.\n",
            "[I 2025-02-12 15:46:05,161] Trial 18 finished with value: 25403.621148668593 and parameters: {'lambda': 0.0002837960684668528, 'alpha': 5.891165545297526e-06, 'colsample_bytree': 0.5096933747778118, 'subsample': 0.8540051280300186, 'learning_rate': 0.007069931961484981, 'n_estimators': 916, 'max_depth': 5, 'min_child_weight': 6, 'gamma': 0.9979778819595233}. Best is trial 13 with value: 25368.139395800135.\n",
            "[I 2025-02-12 15:46:08,253] Trial 19 finished with value: 85827.2717849621 and parameters: {'lambda': 2.27567953719543e-05, 'alpha': 0.00252160792682105, 'colsample_bytree': 0.45395119933752204, 'subsample': 0.8627377977988354, 'learning_rate': 5.069301259326908e-05, 'n_estimators': 651, 'max_depth': 3, 'min_child_weight': 5, 'gamma': 0.7739359633559376}. Best is trial 13 with value: 25368.139395800135.\n",
            "[I 2025-02-12 15:46:09,693] Trial 20 finished with value: 26309.07731753546 and parameters: {'lambda': 0.0007457861561451903, 'alpha': 2.4650602476822344e-08, 'colsample_bytree': 0.8090875275286356, 'subsample': 0.8028082514697451, 'learning_rate': 0.049917002775184266, 'n_estimators': 856, 'max_depth': 8, 'min_child_weight': 4, 'gamma': 0.8606605980600506}. Best is trial 13 with value: 25368.139395800135.\n",
            "[I 2025-02-12 15:46:17,442] Trial 21 finished with value: 25359.41290575541 and parameters: {'lambda': 7.866626797063573e-05, 'alpha': 5.876419090167992e-06, 'colsample_bytree': 0.5037374273365639, 'subsample': 0.8852234029256695, 'learning_rate': 0.007715556020580137, 'n_estimators': 909, 'max_depth': 5, 'min_child_weight': 6, 'gamma': 0.977219326714821}. Best is trial 21 with value: 25359.41290575541.\n",
            "[I 2025-02-12 15:46:20,849] Trial 22 finished with value: 25266.56210534538 and parameters: {'lambda': 2.716864429891434e-05, 'alpha': 8.595361926189893e-06, 'colsample_bytree': 0.4725934209403226, 'subsample': 0.8850549486684758, 'learning_rate': 0.011349100373168776, 'n_estimators': 994, 'max_depth': 5, 'min_child_weight': 6, 'gamma': 0.8791280778677721}. Best is trial 22 with value: 25266.56210534538.\n",
            "[I 2025-02-12 15:46:30,238] Trial 23 finished with value: 28045.315342609843 and parameters: {'lambda': 2.5982586577800942e-05, 'alpha': 2.557052416546594e-06, 'colsample_bytree': 0.43983415836427, 'subsample': 0.9020292604671802, 'learning_rate': 0.0033380841399708477, 'n_estimators': 991, 'max_depth': 6, 'min_child_weight': 6, 'gamma': 0.8966115823443876}. Best is trial 22 with value: 25266.56210534538.\n",
            "[I 2025-02-12 15:46:33,904] Trial 24 finished with value: 26693.310678279333 and parameters: {'lambda': 1.8573531272419325e-07, 'alpha': 9.78228632300052e-05, 'colsample_bytree': 0.5848058578595625, 'subsample': 0.9926636071656602, 'learning_rate': 0.011411605986652756, 'n_estimators': 816, 'max_depth': 4, 'min_child_weight': 7, 'gamma': 0.9258216082490354}. Best is trial 22 with value: 25266.56210534538.\n",
            "[I 2025-02-12 15:46:42,781] Trial 25 finished with value: 45439.54459555101 and parameters: {'lambda': 1.0857089977387597e-05, 'alpha': 4.05488298906906e-07, 'colsample_bytree': 0.44510092593349365, 'subsample': 0.8723341511871349, 'learning_rate': 0.0011603829710842167, 'n_estimators': 991, 'max_depth': 5, 'min_child_weight': 7, 'gamma': 0.8238917062241614}. Best is trial 22 with value: 25266.56210534538.\n",
            "[I 2025-02-12 15:46:47,684] Trial 26 finished with value: 75973.96865419057 and parameters: {'lambda': 8.801941003658366e-05, 'alpha': 0.0001738516181393725, 'colsample_bytree': 0.518543915515988, 'subsample': 0.769960133770205, 'learning_rate': 0.0003116042648986966, 'n_estimators': 630, 'max_depth': 6, 'min_child_weight': 4, 'gamma': 0.6616168896691438}. Best is trial 22 with value: 25266.56210534538.\n",
            "[I 2025-02-12 15:46:55,114] Trial 27 finished with value: 30854.836170380608 and parameters: {'lambda': 2.6428479779145935e-07, 'alpha': 1.0453166017042762e-05, 'colsample_bytree': 0.315041644660655, 'subsample': 0.55260730825702, 'learning_rate': 0.0032239846126801757, 'n_estimators': 926, 'max_depth': 4, 'min_child_weight': 6, 'gamma': 0.9959715850446993}. Best is trial 22 with value: 25266.56210534538.\n",
            "[I 2025-02-12 15:46:55,925] Trial 28 finished with value: 48865.55620093777 and parameters: {'lambda': 0.0005597081408052394, 'alpha': 0.00018070117803100703, 'colsample_bytree': 0.3984218765839587, 'subsample': 0.6774670069883444, 'learning_rate': 0.009089174720865683, 'n_estimators': 104, 'max_depth': 5, 'min_child_weight': 2, 'gamma': 0.8004135888324917}. Best is trial 22 with value: 25266.56210534538.\n",
            "[I 2025-02-12 15:46:59,547] Trial 29 finished with value: 26088.429540747904 and parameters: {'lambda': 0.013222369648731424, 'alpha': 1.3708110952429175e-07, 'colsample_bytree': 0.7884783126382399, 'subsample': 0.8471736277710481, 'learning_rate': 0.014369388069385713, 'n_estimators': 804, 'max_depth': 7, 'min_child_weight': 8, 'gamma': 0.6867242338154216}. Best is trial 22 with value: 25266.56210534538.\n",
            "[I 2025-02-12 15:47:01,369] Trial 30 finished with value: 25139.97660971231 and parameters: {'lambda': 2.613659462602004e-05, 'alpha': 0.0025746386035930837, 'colsample_bytree': 0.6271226013083977, 'subsample': 0.9065619692777057, 'learning_rate': 0.0299250743192148, 'n_estimators': 703, 'max_depth': 3, 'min_child_weight': 2, 'gamma': 0.9034951064240621}. Best is trial 30 with value: 25139.97660971231.\n",
            "[I 2025-02-12 15:47:02,999] Trial 31 finished with value: 25658.141412735036 and parameters: {'lambda': 3.8257125749172695e-05, 'alpha': 0.0028391357037342306, 'colsample_bytree': 0.6083607438928137, 'subsample': 0.9130340358780767, 'learning_rate': 0.027386749894990202, 'n_estimators': 682, 'max_depth': 3, 'min_child_weight': 2, 'gamma': 0.9000500682045663}. Best is trial 30 with value: 25139.97660971231.\n",
            "[I 2025-02-12 15:47:09,339] Trial 32 finished with value: 27958.761640308625 and parameters: {'lambda': 1.1164720470560866e-05, 'alpha': 0.0710615537930237, 'colsample_bytree': 0.546236748663935, 'subsample': 0.9111381455608271, 'learning_rate': 0.005779795800268117, 'n_estimators': 731, 'max_depth': 3, 'min_child_weight': 2, 'gamma': 0.936764547248662}. Best is trial 30 with value: 25139.97660971231.\n",
            "[I 2025-02-12 15:47:12,482] Trial 33 finished with value: 25714.310131354112 and parameters: {'lambda': 0.00015684256822445433, 'alpha': 0.0032642233784063598, 'colsample_bytree': 0.4757450690660465, 'subsample': 0.9591619850303348, 'learning_rate': 0.011431649415241933, 'n_estimators': 603, 'max_depth': 4, 'min_child_weight': 4, 'gamma': 0.8553390212136839}. Best is trial 30 with value: 25139.97660971231.\n",
            "[I 2025-02-12 15:47:14,671] Trial 34 finished with value: 24904.070999046653 and parameters: {'lambda': 0.0008990798488287802, 'alpha': 0.09023224129188562, 'colsample_bytree': 0.6483964172063502, 'subsample': 0.8249256115122747, 'learning_rate': 0.02795459979520519, 'n_estimators': 416, 'max_depth': 6, 'min_child_weight': 6, 'gamma': 0.6078536692231782}. Best is trial 34 with value: 24904.070999046653.\n",
            "[I 2025-02-12 15:47:17,331] Trial 35 finished with value: 24364.501415213228 and parameters: {'lambda': 0.001009257327247252, 'alpha': 0.08609495168649613, 'colsample_bytree': 0.6381421933481911, 'subsample': 0.8178271164609192, 'learning_rate': 0.03781618434574521, 'n_estimators': 434, 'max_depth': 8, 'min_child_weight': 6, 'gamma': 0.5709426457323666}. Best is trial 35 with value: 24364.501415213228.\n",
            "[I 2025-02-12 15:47:22,007] Trial 36 finished with value: 25068.462658419252 and parameters: {'lambda': 0.0009970654489188887, 'alpha': 0.17621940889120413, 'colsample_bytree': 0.6414048585676785, 'subsample': 0.8241129616827143, 'learning_rate': 0.03375452956191299, 'n_estimators': 410, 'max_depth': 8, 'min_child_weight': 7, 'gamma': 0.5895933366363424}. Best is trial 35 with value: 24364.501415213228.\n",
            "[I 2025-02-12 15:47:22,928] Trial 37 finished with value: 25368.144711492052 and parameters: {'lambda': 0.06340376299176886, 'alpha': 0.14350035733428224, 'colsample_bytree': 0.6409851543353895, 'subsample': 0.8249907009576367, 'learning_rate': 0.09679327445873237, 'n_estimators': 398, 'max_depth': 10, 'min_child_weight': 7, 'gamma': 0.6035560597912206}. Best is trial 35 with value: 24364.501415213228.\n",
            "[I 2025-02-12 15:47:24,621] Trial 38 finished with value: 26982.99543712435 and parameters: {'lambda': 0.0009840122744246237, 'alpha': 0.20321229663193582, 'colsample_bytree': 0.7556312200536587, 'subsample': 0.7583811714447362, 'learning_rate': 0.030714928098191634, 'n_estimators': 209, 'max_depth': 8, 'min_child_weight': 9, 'gamma': 0.45746258608441154}. Best is trial 35 with value: 24364.501415213228.\n",
            "[I 2025-02-12 15:47:25,777] Trial 39 finished with value: 26329.160933695657 and parameters: {'lambda': 0.02307481009574444, 'alpha': 0.06353088623214954, 'colsample_bytree': 0.7156129582053903, 'subsample': 0.69723665633491, 'learning_rate': 0.06292844405383435, 'n_estimators': 434, 'max_depth': 9, 'min_child_weight': 9, 'gamma': 0.30774880151783307}. Best is trial 35 with value: 24364.501415213228.\n",
            "[I 2025-02-12 15:47:27,710] Trial 40 finished with value: 25400.73984598392 and parameters: {'lambda': 0.001334767165486823, 'alpha': 0.006613806807908397, 'colsample_bytree': 0.6815180982779504, 'subsample': 0.8248550967540847, 'learning_rate': 0.03218689425965846, 'n_estimators': 508, 'max_depth': 8, 'min_child_weight': 7, 'gamma': 0.550830770644804}. Best is trial 35 with value: 24364.501415213228.\n",
            "[I 2025-02-12 15:47:30,589] Trial 41 finished with value: 23939.336156334506 and parameters: {'lambda': 0.00020527957308198041, 'alpha': 0.3129196914611624, 'colsample_bytree': 0.6377900881090248, 'subsample': 0.8263138154817845, 'learning_rate': 0.037816733469288905, 'n_estimators': 348, 'max_depth': 9, 'min_child_weight': 5, 'gamma': 0.4772035769963008}. Best is trial 41 with value: 23939.336156334506.\n",
            "[I 2025-02-12 15:47:34,351] Trial 42 finished with value: 26026.0030290124 and parameters: {'lambda': 0.00024323307526878915, 'alpha': 0.28829951323520925, 'colsample_bytree': 0.6190727128149192, 'subsample': 0.8247676447997974, 'learning_rate': 0.07055763084646598, 'n_estimators': 370, 'max_depth': 9, 'min_child_weight': 8, 'gamma': 0.4505107784740109}. Best is trial 41 with value: 23939.336156334506.\n",
            "[I 2025-02-12 15:47:36,824] Trial 43 finished with value: 25212.469213239518 and parameters: {'lambda': 0.0005012589371323908, 'alpha': 0.07193040118833191, 'colsample_bytree': 0.7077739092767475, 'subsample': 0.7733544367149833, 'learning_rate': 0.03787816155796667, 'n_estimators': 264, 'max_depth': 9, 'min_child_weight': 5, 'gamma': 0.6144129166455077}. Best is trial 41 with value: 23939.336156334506.\n",
            "[I 2025-02-12 15:47:39,987] Trial 44 finished with value: 25880.018371325586 and parameters: {'lambda': 0.010150627316005112, 'alpha': 0.7528397624472303, 'colsample_bytree': 0.6470181162298314, 'subsample': 0.9310240352124458, 'learning_rate': 0.02277194077960084, 'n_estimators': 431, 'max_depth': 8, 'min_child_weight': 10, 'gamma': 0.3163827705674706}. Best is trial 41 with value: 23939.336156334506.\n",
            "[I 2025-02-12 15:47:41,320] Trial 45 finished with value: 25923.078912524892 and parameters: {'lambda': 0.0018895432600233924, 'alpha': 0.055442489177495224, 'colsample_bytree': 0.56778061803124, 'subsample': 0.731353493222234, 'learning_rate': 0.0581610162502061, 'n_estimators': 487, 'max_depth': 10, 'min_child_weight': 7, 'gamma': 0.5087426009787622}. Best is trial 41 with value: 23939.336156334506.\n",
            "[I 2025-02-12 15:47:47,903] Trial 46 finished with value: 25131.355408652245 and parameters: {'lambda': 4.7606834351783734e-06, 'alpha': 0.370229167175751, 'colsample_bytree': 0.6832786759177928, 'subsample': 0.8412112523203108, 'learning_rate': 0.015479631131518984, 'n_estimators': 577, 'max_depth': 9, 'min_child_weight': 5, 'gamma': 0.435563045858282}. Best is trial 41 with value: 23939.336156334506.\n",
            "[I 2025-02-12 15:47:51,728] Trial 47 finished with value: 25360.711754933203 and parameters: {'lambda': 3.777884924789578e-06, 'alpha': 0.3270117948929717, 'colsample_bytree': 0.7488729786941914, 'subsample': 0.796567222477213, 'learning_rate': 0.015697608618069212, 'n_estimators': 545, 'max_depth': 9, 'min_child_weight': 5, 'gamma': 0.5559116068215357}. Best is trial 41 with value: 23939.336156334506.\n",
            "[I 2025-02-12 15:47:54,517] Trial 48 finished with value: 83209.92191102299 and parameters: {'lambda': 1.7603449398407965e-08, 'alpha': 0.034844177806167435, 'colsample_bytree': 0.6716087503307989, 'subsample': 0.8479982689994605, 'learning_rate': 0.00024337422510784578, 'n_estimators': 281, 'max_depth': 7, 'min_child_weight': 6, 'gamma': 0.43485522696261997}. Best is trial 41 with value: 23939.336156334506.\n",
            "[I 2025-02-12 15:47:55,506] Trial 49 finished with value: 24697.331832149655 and parameters: {'lambda': 0.0001447546304048945, 'alpha': 0.9152870471081481, 'colsample_bytree': 0.6873950045811303, 'subsample': 0.7516847643146375, 'learning_rate': 0.0822838674321017, 'n_estimators': 579, 'max_depth': 10, 'min_child_weight': 5, 'gamma': 0.36109817419994905}. Best is trial 41 with value: 23939.336156334506.\n",
            "[I 2025-02-12 15:47:57,029] Trial 50 finished with value: 24169.649503872355 and parameters: {'lambda': 0.0001375458505164074, 'alpha': 0.12781972543585018, 'colsample_bytree': 0.5915991552826847, 'subsample': 0.6640462313445294, 'learning_rate': 0.07357114592853473, 'n_estimators': 464, 'max_depth': 10, 'min_child_weight': 4, 'gamma': 0.14023641623452132}. Best is trial 41 with value: 23939.336156334506.\n",
            "[I 2025-02-12 15:48:00,929] Trial 51 finished with value: 25562.707006499928 and parameters: {'lambda': 0.00013741897644629013, 'alpha': 0.8547168379728944, 'colsample_bytree': 0.6475819119239663, 'subsample': 0.6389029093839808, 'learning_rate': 0.08084620177145536, 'n_estimators': 466, 'max_depth': 10, 'min_child_weight': 4, 'gamma': 0.18104344420869264}. Best is trial 41 with value: 23939.336156334506.\n",
            "[I 2025-02-12 15:48:02,574] Trial 52 finished with value: 25238.674569085284 and parameters: {'lambda': 0.00033526511125225243, 'alpha': 0.009609025737649202, 'colsample_bytree': 0.5761250327823237, 'subsample': 0.6891243783149568, 'learning_rate': 0.04628406952898332, 'n_estimators': 393, 'max_depth': 10, 'min_child_weight': 5, 'gamma': 0.1921339882640518}. Best is trial 41 with value: 23939.336156334506.\n",
            "[I 2025-02-12 15:48:03,760] Trial 53 finished with value: 26148.094502295327 and parameters: {'lambda': 6.282249444561707e-05, 'alpha': 0.12591646518997468, 'colsample_bytree': 0.7034660623202954, 'subsample': 0.5875490808045731, 'learning_rate': 0.09590615267139689, 'n_estimators': 347, 'max_depth': 10, 'min_child_weight': 5, 'gamma': 0.23425506089723525}. Best is trial 41 with value: 23939.336156334506.\n",
            "[I 2025-02-12 15:48:05,202] Trial 54 finished with value: 25568.53345862346 and parameters: {'lambda': 0.0012277525967863939, 'alpha': 0.18036482240975057, 'colsample_bytree': 0.5976685232138333, 'subsample': 0.6644665380999077, 'learning_rate': 0.038265116937288325, 'n_estimators': 294, 'max_depth': 9, 'min_child_weight': 6, 'gamma': 0.10387864779289743}. Best is trial 41 with value: 23939.336156334506.\n",
            "[I 2025-02-12 15:48:06,506] Trial 55 finished with value: 24579.979738375394 and parameters: {'lambda': 0.0049982532941045986, 'alpha': 0.4266410109659739, 'colsample_bytree': 0.546780794280135, 'subsample': 0.7426537885304088, 'learning_rate': 0.06289406188642004, 'n_estimators': 468, 'max_depth': 8, 'min_child_weight': 4, 'gamma': 0.340502963238602}. Best is trial 41 with value: 23939.336156334506.\n",
            "[I 2025-02-12 15:48:07,601] Trial 56 finished with value: 26427.525391951018 and parameters: {'lambda': 0.00583130411960647, 'alpha': 0.5418920671596094, 'colsample_bytree': 0.5466206886331882, 'subsample': 0.7239631486670934, 'learning_rate': 0.07152633185839283, 'n_estimators': 474, 'max_depth': 10, 'min_child_weight': 4, 'gamma': 0.37685293756803595}. Best is trial 41 with value: 23939.336156334506.\n",
            "[I 2025-02-12 15:48:09,398] Trial 57 finished with value: 26388.47868372949 and parameters: {'lambda': 0.0025108399013556324, 'alpha': 0.9538483953167267, 'colsample_bytree': 0.7801698993199226, 'subsample': 0.7455498673753423, 'learning_rate': 0.05704835770218548, 'n_estimators': 522, 'max_depth': 9, 'min_child_weight': 4, 'gamma': 0.34839645313908263}. Best is trial 41 with value: 23939.336156334506.\n",
            "[I 2025-02-12 15:48:15,125] Trial 58 finished with value: 26112.24246886562 and parameters: {'lambda': 0.07654900745764313, 'alpha': 0.028659020661057955, 'colsample_bytree': 0.5492948203368185, 'subsample': 0.7835586177125331, 'learning_rate': 0.023832074633163246, 'n_estimators': 220, 'max_depth': 10, 'min_child_weight': 3, 'gamma': 0.1384243312893213}. Best is trial 41 with value: 23939.336156334506.\n",
            "[I 2025-02-12 15:48:16,326] Trial 59 finished with value: 24280.30211827102 and parameters: {'lambda': 0.00020307671167564572, 'alpha': 0.008922724396644419, 'colsample_bytree': 0.669202031723724, 'subsample': 0.7209331239498952, 'learning_rate': 0.052271647209329815, 'n_estimators': 577, 'max_depth': 8, 'min_child_weight': 5, 'gamma': 0.2540549541382024}. Best is trial 41 with value: 23939.336156334506.\n",
            "[I 2025-02-12 15:48:17,996] Trial 60 finished with value: 24838.40259831981 and parameters: {'lambda': 0.00020087189724518517, 'alpha': 0.010704466921779572, 'colsample_bytree': 0.5986303641769402, 'subsample': 0.7110429577850027, 'learning_rate': 0.046657233253914486, 'n_estimators': 599, 'max_depth': 8, 'min_child_weight': 4, 'gamma': 0.255435106946208}. Best is trial 41 with value: 23939.336156334506.\n",
            "[I 2025-02-12 15:48:19,653] Trial 61 finished with value: 24572.523078192906 and parameters: {'lambda': 0.00017775841098661895, 'alpha': 0.009927372833841831, 'colsample_bytree': 0.5915537483143576, 'subsample': 0.708937289042221, 'learning_rate': 0.04709519685669145, 'n_estimators': 568, 'max_depth': 8, 'min_child_weight': 4, 'gamma': 0.2555757354608769}. Best is trial 41 with value: 23939.336156334506.\n",
            "[I 2025-02-12 15:48:21,114] Trial 62 finished with value: 23920.917750465967 and parameters: {'lambda': 5.0002272060563565e-05, 'alpha': 0.03989536443518509, 'colsample_bytree': 0.6690077119530659, 'subsample': 0.6503757335523646, 'learning_rate': 0.07324071202844211, 'n_estimators': 557, 'max_depth': 8, 'min_child_weight': 5, 'gamma': 0.308302230606046}. Best is trial 62 with value: 23920.917750465967.\n",
            "[I 2025-02-12 15:48:22,186] Trial 63 finished with value: 25752.84793538797 and parameters: {'lambda': 0.0004427479124916181, 'alpha': 0.0008580942687018133, 'colsample_bytree': 0.5372811954984444, 'subsample': 0.6379237664719392, 'learning_rate': 0.05621324902921653, 'n_estimators': 461, 'max_depth': 8, 'min_child_weight': 4, 'gamma': 0.008263107514206197}. Best is trial 62 with value: 23920.917750465967.\n",
            "[I 2025-02-12 15:48:23,293] Trial 64 finished with value: 25920.000630889437 and parameters: {'lambda': 1.3600502563906747e-05, 'alpha': 0.016533054228767573, 'colsample_bytree': 0.6647163968268218, 'subsample': 0.6012376354739704, 'learning_rate': 0.04524488998325843, 'n_estimators': 544, 'max_depth': 7, 'min_child_weight': 3, 'gamma': 0.3035509768158019}. Best is trial 62 with value: 23920.917750465967.\n",
            "[I 2025-02-12 15:48:25,419] Trial 65 finished with value: 25103.502437410607 and parameters: {'lambda': 5.3833510321225366e-05, 'alpha': 0.040175136489889685, 'colsample_bytree': 0.7325653058047801, 'subsample': 0.6574868588094124, 'learning_rate': 0.07054127187376884, 'n_estimators': 503, 'max_depth': 7, 'min_child_weight': 5, 'gamma': 0.2280114515939804}. Best is trial 62 with value: 23920.917750465967.\n",
            "[I 2025-02-12 15:48:28,874] Trial 66 finished with value: 24238.84946711774 and parameters: {'lambda': 9.736174629849452e-05, 'alpha': 0.004329061063564579, 'colsample_bytree': 0.5745921336651627, 'subsample': 0.6801920070491684, 'learning_rate': 0.040167699791941756, 'n_estimators': 450, 'max_depth': 8, 'min_child_weight': 4, 'gamma': 0.154310592717524}. Best is trial 62 with value: 23920.917750465967.\n",
            "[I 2025-02-12 15:48:31,596] Trial 67 finished with value: 25080.843021173318 and parameters: {'lambda': 9.976192214314827e-05, 'alpha': 0.004645267822624552, 'colsample_bytree': 0.584154803951002, 'subsample': 0.5642399615687576, 'learning_rate': 0.02222886436863883, 'n_estimators': 609, 'max_depth': 8, 'min_child_weight': 3, 'gamma': 0.06361689412057783}. Best is trial 62 with value: 23920.917750465967.\n",
            "[I 2025-02-12 15:48:34,224] Trial 68 finished with value: 24804.453053208726 and parameters: {'lambda': 4.896440047988973e-05, 'alpha': 0.0017166650863163194, 'colsample_bytree': 0.6180428760006744, 'subsample': 0.6791366636485039, 'learning_rate': 0.019186053436648653, 'n_estimators': 353, 'max_depth': 7, 'min_child_weight': 5, 'gamma': 0.13863402535231295}. Best is trial 62 with value: 23920.917750465967.\n",
            "[I 2025-02-12 15:48:36,229] Trial 69 finished with value: 24941.84565080979 and parameters: {'lambda': 1.6934425315594786e-05, 'alpha': 0.0009601260595114642, 'colsample_bytree': 0.6251778997306399, 'subsample': 0.705277178146818, 'learning_rate': 0.037871640953121184, 'n_estimators': 534, 'max_depth': 8, 'min_child_weight': 4, 'gamma': 0.1559316884857618}. Best is trial 62 with value: 23920.917750465967.\n",
            "[I 2025-02-12 15:48:44,679] Trial 70 finished with value: 49079.79625172916 and parameters: {'lambda': 1.2751137585503925e-06, 'alpha': 0.00033051480111794196, 'colsample_bytree': 0.48469755078336185, 'subsample': 0.6241978945621001, 'learning_rate': 0.0016409299061799561, 'n_estimators': 565, 'max_depth': 9, 'min_child_weight': 6, 'gamma': 0.26907690112221094}. Best is trial 62 with value: 23920.917750465967.\n",
            "[I 2025-02-12 15:48:46,024] Trial 71 finished with value: 25978.85522969746 and parameters: {'lambda': 0.000313355261879144, 'alpha': 0.01589313925408052, 'colsample_bytree': 0.5294805298595873, 'subsample': 0.6671182075116878, 'learning_rate': 0.05678591214627364, 'n_estimators': 379, 'max_depth': 8, 'min_child_weight': 4, 'gamma': 0.2286873131498519}. Best is trial 62 with value: 23920.917750465967.\n",
            "[I 2025-02-12 15:48:47,126] Trial 72 finished with value: 25165.744138968785 and parameters: {'lambda': 0.004831025636076912, 'alpha': 0.03917000767513038, 'colsample_bytree': 0.5689206572632015, 'subsample': 0.7277557849513419, 'learning_rate': 0.08026064292933917, 'n_estimators': 457, 'max_depth': 8, 'min_child_weight': 4, 'gamma': 0.33761909462319384}. Best is trial 62 with value: 23920.917750465967.\n",
            "[I 2025-02-12 15:48:48,931] Trial 73 finished with value: 25708.466119488872 and parameters: {'lambda': 0.0005311085873073354, 'alpha': 0.00558906720637642, 'colsample_bytree': 0.595760544524608, 'subsample': 0.6805136903218839, 'learning_rate': 0.04181591493046284, 'n_estimators': 494, 'max_depth': 9, 'min_child_weight': 5, 'gamma': 0.4071210256484693}. Best is trial 62 with value: 23920.917750465967.\n",
            "[I 2025-02-12 15:48:49,676] Trial 74 finished with value: 27594.24855465234 and parameters: {'lambda': 0.00011142273760547952, 'alpha': 0.11988778992476737, 'colsample_bytree': 0.4954496470604774, 'subsample': 0.6418695521832132, 'learning_rate': 0.09975526348259858, 'n_estimators': 443, 'max_depth': 8, 'min_child_weight': 3, 'gamma': 0.09721800941721292}. Best is trial 62 with value: 23920.917750465967.\n",
            "[I 2025-02-12 15:48:56,538] Trial 75 finished with value: 24473.795443766445 and parameters: {'lambda': 7.731432795733833e-06, 'alpha': 0.3772399477138212, 'colsample_bytree': 0.6636217515955091, 'subsample': 0.7058698767777684, 'learning_rate': 0.051620206387359584, 'n_estimators': 671, 'max_depth': 7, 'min_child_weight': 5, 'gamma': 0.49117663586898413}. Best is trial 62 with value: 23920.917750465967.\n",
            "[I 2025-02-12 15:48:58,318] Trial 76 finished with value: 25904.212469698174 and parameters: {'lambda': 7.95088982890553e-06, 'alpha': 0.013191904958614671, 'colsample_bytree': 0.6581597003165488, 'subsample': 0.601318020593986, 'learning_rate': 0.03141844589575242, 'n_estimators': 673, 'max_depth': 7, 'min_child_weight': 6, 'gamma': 0.5141431970212518}. Best is trial 62 with value: 23920.917750465967.\n",
            "[I 2025-02-12 15:48:59,634] Trial 77 finished with value: 24494.144921170922 and parameters: {'lambda': 3.560895172002364e-05, 'alpha': 0.22618218415983052, 'colsample_bytree': 0.6990621320618721, 'subsample': 0.7008700946661653, 'learning_rate': 0.048230260335623706, 'n_estimators': 637, 'max_depth': 7, 'min_child_weight': 5, 'gamma': 0.4795100459003173}. Best is trial 62 with value: 23920.917750465967.\n",
            "[I 2025-02-12 15:49:01,320] Trial 78 finished with value: 25761.05348869397 and parameters: {'lambda': 3.4823098307590565e-05, 'alpha': 0.10298081631748185, 'colsample_bytree': 0.6997907811571538, 'subsample': 0.45280889468627683, 'learning_rate': 0.02663759574196734, 'n_estimators': 772, 'max_depth': 7, 'min_child_weight': 5, 'gamma': 0.48064780636369414}. Best is trial 62 with value: 23920.917750465967.\n",
            "[I 2025-02-12 15:49:11,451] Trial 79 finished with value: 68139.77358261825 and parameters: {'lambda': 7.616357106247259e-06, 'alpha': 0.22286425373081797, 'colsample_bytree': 0.7773628341481555, 'subsample': 0.6958136376603521, 'learning_rate': 0.0004697201268024387, 'n_estimators': 732, 'max_depth': 7, 'min_child_weight': 5, 'gamma': 0.5461923262680763}. Best is trial 62 with value: 23920.917750465967.\n",
            "[I 2025-02-12 15:49:13,011] Trial 80 finished with value: 25880.743458410823 and parameters: {'lambda': 2.453014062271865e-06, 'alpha': 0.02275545890601475, 'colsample_bytree': 0.7270411554065793, 'subsample': 0.623110288376447, 'learning_rate': 0.03629584666390733, 'n_estimators': 641, 'max_depth': 7, 'min_child_weight': 6, 'gamma': 0.65322160528497}. Best is trial 62 with value: 23920.917750465967.\n",
            "[I 2025-02-12 15:49:14,818] Trial 81 finished with value: 24260.018467020607 and parameters: {'lambda': 6.594532630912716e-05, 'alpha': 0.06540728611656917, 'colsample_bytree': 0.6308701277127331, 'subsample': 0.718823239539277, 'learning_rate': 0.04852781590998005, 'n_estimators': 625, 'max_depth': 8, 'min_child_weight': 5, 'gamma': 0.04541268644935238}. Best is trial 62 with value: 23920.917750465967.\n",
            "[I 2025-02-12 15:49:16,545] Trial 82 finished with value: 23626.699866914245 and parameters: {'lambda': 7.102092185182488e-05, 'alpha': 0.056004460150454745, 'colsample_bytree': 0.6373133620068534, 'subsample': 0.75915267301823, 'learning_rate': 0.053486610127162555, 'n_estimators': 631, 'max_depth': 6, 'min_child_weight': 5, 'gamma': 0.031620972472641874}. Best is trial 82 with value: 23626.699866914245.\n",
            "[I 2025-02-12 15:49:20,137] Trial 83 finished with value: 24357.410118754942 and parameters: {'lambda': 7.413827945063382e-05, 'alpha': 0.061562796285149865, 'colsample_bytree': 0.631462011817828, 'subsample': 0.7638326626707272, 'learning_rate': 0.07795836402361057, 'n_estimators': 684, 'max_depth': 6, 'min_child_weight': 5, 'gamma': 0.0408810685865271}. Best is trial 82 with value: 23626.699866914245.\n",
            "[I 2025-02-12 15:49:20,901] Trial 84 finished with value: 26244.681085303433 and parameters: {'lambda': 6.797868072736649e-05, 'alpha': 0.04711418856803177, 'colsample_bytree': 0.6348472685900997, 'subsample': 0.764766699346114, 'learning_rate': 0.07810807662917729, 'n_estimators': 708, 'max_depth': 6, 'min_child_weight': 6, 'gamma': 0.03343418748366361}. Best is trial 82 with value: 23626.699866914245.\n",
            "[I 2025-02-12 15:49:21,902] Trial 85 finished with value: 25634.21351556477 and parameters: {'lambda': 1.8993420071468864e-05, 'alpha': 0.08497979647486796, 'colsample_bytree': 0.6125829108206988, 'subsample': 0.8105397872233056, 'learning_rate': 0.06719289717179429, 'n_estimators': 618, 'max_depth': 6, 'min_child_weight': 5, 'gamma': 0.04637895939424322}. Best is trial 82 with value: 23626.699866914245.\n",
            "[I 2025-02-12 15:49:22,897] Trial 86 finished with value: 24448.63378534218 and parameters: {'lambda': 8.541592057772952e-05, 'alpha': 0.021396853688639594, 'colsample_bytree': 0.6253604438895248, 'subsample': 0.7687221387119956, 'learning_rate': 0.08860271314497115, 'n_estimators': 527, 'max_depth': 6, 'min_child_weight': 5, 'gamma': 0.08885084509643382}. Best is trial 82 with value: 23626.699866914245.\n",
            "[I 2025-02-12 15:49:26,037] Trial 87 finished with value: 25449.098417554287 and parameters: {'lambda': 0.0002463801759163646, 'alpha': 0.061508666746500774, 'colsample_bytree': 0.6556307245308339, 'subsample': 0.7228767646723518, 'learning_rate': 0.018666152933576142, 'n_estimators': 704, 'max_depth': 9, 'min_child_weight': 6, 'gamma': 0.11859979183869383}. Best is trial 82 with value: 23626.699866914245.\n",
            "[I 2025-02-12 15:49:28,006] Trial 88 finished with value: 24695.40641955222 and parameters: {'lambda': 0.0006876426772443374, 'alpha': 0.03084455341014997, 'colsample_bytree': 0.609261903468631, 'subsample': 0.7949559606539116, 'learning_rate': 0.03345863753870238, 'n_estimators': 596, 'max_depth': 6, 'min_child_weight': 5, 'gamma': 0.06334829026535213}. Best is trial 82 with value: 23626.699866914245.\n",
            "[I 2025-02-12 15:49:29,042] Trial 89 finished with value: 25794.659567175153 and parameters: {'lambda': 0.00041266475319331217, 'alpha': 0.1277618015022918, 'colsample_bytree': 0.679676627852534, 'subsample': 0.783077190957097, 'learning_rate': 0.06632779727112711, 'n_estimators': 324, 'max_depth': 9, 'min_child_weight': 6, 'gamma': 0.005784967374710313}. Best is trial 82 with value: 23626.699866914245.\n",
            "[I 2025-02-12 15:49:38,168] Trial 90 finished with value: 84169.85742100724 and parameters: {'lambda': 5.026957210381998e-05, 'alpha': 0.04672823380956457, 'colsample_bytree': 0.5728703068833435, 'subsample': 0.8678425997289483, 'learning_rate': 9.40984619226551e-05, 'n_estimators': 554, 'max_depth': 8, 'min_child_weight': 4, 'gamma': 0.16339114026703597}. Best is trial 82 with value: 23626.699866914245.\n",
            "[I 2025-02-12 15:49:38,875] Trial 91 finished with value: 25325.667275947817 and parameters: {'lambda': 8.10778062937512e-05, 'alpha': 0.027690846120097642, 'colsample_bytree': 0.6280284278061168, 'subsample': 0.7595938410532977, 'learning_rate': 0.09539416484182178, 'n_estimators': 656, 'max_depth': 6, 'min_child_weight': 5, 'gamma': 0.1197460643169288}. Best is trial 82 with value: 23626.699866914245.\n",
            "[I 2025-02-12 15:49:39,689] Trial 92 finished with value: 25403.198114516657 and parameters: {'lambda': 0.0001580035475570614, 'alpha': 0.006541020783703903, 'colsample_bytree': 0.6332471116909663, 'subsample': 0.7799443313481703, 'learning_rate': 0.08513219367353245, 'n_estimators': 510, 'max_depth': 6, 'min_child_weight': 5, 'gamma': 0.08481418967698427}. Best is trial 82 with value: 23626.699866914245.\n",
            "[I 2025-02-12 15:49:41,073] Trial 93 finished with value: 24688.25310564013 and parameters: {'lambda': 9.298286751502894e-05, 'alpha': 0.021012435203055613, 'colsample_bytree': 0.6930975871514056, 'subsample': 0.8071395372942836, 'learning_rate': 0.0572963251562218, 'n_estimators': 591, 'max_depth': 5, 'min_child_weight': 5, 'gamma': 0.04615174861631881}. Best is trial 82 with value: 23626.699866914245.\n",
            "[I 2025-02-12 15:49:42,605] Trial 94 finished with value: 25321.080304996045 and parameters: {'lambda': 2.4103704556826143e-05, 'alpha': 0.08352087576028339, 'colsample_bytree': 0.6471462432833759, 'subsample': 0.7374617356725388, 'learning_rate': 0.04123214980791795, 'n_estimators': 625, 'max_depth': 6, 'min_child_weight': 6, 'gamma': 0.07565866675524498}. Best is trial 82 with value: 23626.699866914245.\n",
            "[I 2025-02-12 15:49:46,228] Trial 95 finished with value: 26477.69421026731 and parameters: {'lambda': 0.0002378926420654483, 'alpha': 0.0037702441429126408, 'colsample_bytree': 0.5566862492126593, 'subsample': 0.7710908379002794, 'learning_rate': 0.07851956456815148, 'n_estimators': 420, 'max_depth': 5, 'min_child_weight': 4, 'gamma': 0.20809792110614692}. Best is trial 82 with value: 23626.699866914245.\n",
            "[I 2025-02-12 15:49:48,000] Trial 96 finished with value: 24832.90560943117 and parameters: {'lambda': 0.00012113137979396353, 'alpha': 0.16365408770515225, 'colsample_bytree': 0.6080286327740281, 'subsample': 0.6524560476547046, 'learning_rate': 0.0262666585463764, 'n_estimators': 521, 'max_depth': 6, 'min_child_weight': 5, 'gamma': 0.032466911537831156}. Best is trial 82 with value: 23626.699866914245.\n",
            "[I 2025-02-12 15:49:50,135] Trial 97 finished with value: 24632.508930926702 and parameters: {'lambda': 3.527604619249509e-05, 'alpha': 0.0017035382228876316, 'colsample_bytree': 0.6727899790445836, 'subsample': 0.7562506326455961, 'learning_rate': 0.05255111394761015, 'n_estimators': 481, 'max_depth': 9, 'min_child_weight': 4, 'gamma': 0.11394198940832957}. Best is trial 82 with value: 23626.699866914245.\n",
            "[I 2025-02-12 15:49:51,078] Trial 98 finished with value: 25937.42886929114 and parameters: {'lambda': 0.0018725992298297025, 'alpha': 1.3344339401162391e-08, 'colsample_bytree': 0.5782285465096263, 'subsample': 0.6892142913029872, 'learning_rate': 0.06319523463198222, 'n_estimators': 442, 'max_depth': 8, 'min_child_weight': 5, 'gamma': 0.15771584253467902}. Best is trial 82 with value: 23626.699866914245.\n",
            "[I 2025-02-12 15:49:52,823] Trial 99 finished with value: 24591.28069553549 and parameters: {'lambda': 0.00032888040456559726, 'alpha': 0.007994588849560101, 'colsample_bytree': 0.7204853589316362, 'subsample': 0.6669506248182958, 'learning_rate': 0.04159185562541616, 'n_estimators': 398, 'max_depth': 8, 'min_child_weight': 6, 'gamma': 0.08625635333710505}. Best is trial 82 with value: 23626.699866914245.\n"
          ]
        }
      ]
    },
    {
      "cell_type": "code",
      "source": [
        "# Model Training and Prediction\n",
        "final_model = xgb.XGBRegressor(**best_params)\n",
        "final_model.fit(X_train_processed, y_train)\n",
        "\n",
        "predictions = final_model.predict(X_test_processed)"
      ],
      "metadata": {
        "id": "3wJDNMKRdBnv"
      },
      "execution_count": 18,
      "outputs": []
    },
    {
      "cell_type": "code",
      "source": [
        "# Evaluate accuracy on validation set\n",
        "val_predictions = final_model.predict(X_val_processed)\n",
        "\n",
        "# Calculate RMSE without 'squared' argument and take the square root manually\n",
        "rmse = mean_squared_error(y_val, val_predictions)**0.5\n",
        "\n",
        "print(f\"Validation RMSE: {rmse}\")"
      ],
      "metadata": {
        "colab": {
          "base_uri": "https://localhost:8080/"
        },
        "id": "yd_L3NykzIOr",
        "outputId": "baf6c29d-8a3d-4ede-f977-61abb45cafe8"
      },
      "execution_count": 19,
      "outputs": [
        {
          "output_type": "stream",
          "name": "stdout",
          "text": [
            "Validation RMSE: 23627.352285010693\n"
          ]
        }
      ]
    },
    {
      "cell_type": "code",
      "source": [
        "#submission_df = pd.DataFrame({'Id': test_df['Id'], 'SalePrice': predictions})\n",
        "#submission_df.to_csv('submission.csv', index=False)"
      ],
      "metadata": {
        "id": "LdRFTdmCd4ws"
      },
      "execution_count": 15,
      "outputs": []
    },
    {
      "cell_type": "code",
      "source": [],
      "metadata": {
        "id": "g4dHEG6qDVlH"
      },
      "execution_count": 15,
      "outputs": []
    }
  ]
}