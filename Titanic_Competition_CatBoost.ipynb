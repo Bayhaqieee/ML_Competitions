{
  "nbformat": 4,
  "nbformat_minor": 0,
  "metadata": {
    "colab": {
      "provenance": [],
      "mount_file_id": "1mj8Uuri0ALKNfzKUIjNejbDxHgxFSE3L",
      "authorship_tag": "ABX9TyNNrqT050w5XgZPvGGYZAe3"
    },
    "kernelspec": {
      "name": "python3",
      "display_name": "Python 3"
    },
    "language_info": {
      "name": "python"
    }
  },
  "cells": [
    {
      "cell_type": "code",
      "execution_count": 1,
      "metadata": {
        "colab": {
          "base_uri": "https://localhost:8080/"
        },
        "id": "4sQroeAEb0LG",
        "outputId": "bf3eb84b-3310-4ae1-a05f-4a9edc0f39a1"
      },
      "outputs": [
        {
          "output_type": "stream",
          "name": "stdout",
          "text": [
            "Requirement already satisfied: pandas in /usr/local/lib/python3.11/dist-packages (2.2.2)\n",
            "Requirement already satisfied: numpy>=1.23.2 in /usr/local/lib/python3.11/dist-packages (from pandas) (1.26.4)\n",
            "Requirement already satisfied: python-dateutil>=2.8.2 in /usr/local/lib/python3.11/dist-packages (from pandas) (2.8.2)\n",
            "Requirement already satisfied: pytz>=2020.1 in /usr/local/lib/python3.11/dist-packages (from pandas) (2025.1)\n",
            "Requirement already satisfied: tzdata>=2022.7 in /usr/local/lib/python3.11/dist-packages (from pandas) (2025.1)\n",
            "Requirement already satisfied: six>=1.5 in /usr/local/lib/python3.11/dist-packages (from python-dateutil>=2.8.2->pandas) (1.17.0)\n",
            "Requirement already satisfied: numpy in /usr/local/lib/python3.11/dist-packages (1.26.4)\n",
            "Requirement already satisfied: scikit-learn in /usr/local/lib/python3.11/dist-packages (1.6.1)\n",
            "Requirement already satisfied: numpy>=1.19.5 in /usr/local/lib/python3.11/dist-packages (from scikit-learn) (1.26.4)\n",
            "Requirement already satisfied: scipy>=1.6.0 in /usr/local/lib/python3.11/dist-packages (from scikit-learn) (1.13.1)\n",
            "Requirement already satisfied: joblib>=1.2.0 in /usr/local/lib/python3.11/dist-packages (from scikit-learn) (1.4.2)\n",
            "Requirement already satisfied: threadpoolctl>=3.1.0 in /usr/local/lib/python3.11/dist-packages (from scikit-learn) (3.5.0)\n",
            "Collecting catboost\n",
            "  Downloading catboost-1.2.7-cp311-cp311-manylinux2014_x86_64.whl.metadata (1.2 kB)\n",
            "Requirement already satisfied: graphviz in /usr/local/lib/python3.11/dist-packages (from catboost) (0.20.3)\n",
            "Requirement already satisfied: matplotlib in /usr/local/lib/python3.11/dist-packages (from catboost) (3.10.0)\n",
            "Requirement already satisfied: numpy<2.0,>=1.16.0 in /usr/local/lib/python3.11/dist-packages (from catboost) (1.26.4)\n",
            "Requirement already satisfied: pandas>=0.24 in /usr/local/lib/python3.11/dist-packages (from catboost) (2.2.2)\n",
            "Requirement already satisfied: scipy in /usr/local/lib/python3.11/dist-packages (from catboost) (1.13.1)\n",
            "Requirement already satisfied: plotly in /usr/local/lib/python3.11/dist-packages (from catboost) (5.24.1)\n",
            "Requirement already satisfied: six in /usr/local/lib/python3.11/dist-packages (from catboost) (1.17.0)\n",
            "Requirement already satisfied: python-dateutil>=2.8.2 in /usr/local/lib/python3.11/dist-packages (from pandas>=0.24->catboost) (2.8.2)\n",
            "Requirement already satisfied: pytz>=2020.1 in /usr/local/lib/python3.11/dist-packages (from pandas>=0.24->catboost) (2025.1)\n",
            "Requirement already satisfied: tzdata>=2022.7 in /usr/local/lib/python3.11/dist-packages (from pandas>=0.24->catboost) (2025.1)\n",
            "Requirement already satisfied: contourpy>=1.0.1 in /usr/local/lib/python3.11/dist-packages (from matplotlib->catboost) (1.3.1)\n",
            "Requirement already satisfied: cycler>=0.10 in /usr/local/lib/python3.11/dist-packages (from matplotlib->catboost) (0.12.1)\n",
            "Requirement already satisfied: fonttools>=4.22.0 in /usr/local/lib/python3.11/dist-packages (from matplotlib->catboost) (4.55.8)\n",
            "Requirement already satisfied: kiwisolver>=1.3.1 in /usr/local/lib/python3.11/dist-packages (from matplotlib->catboost) (1.4.8)\n",
            "Requirement already satisfied: packaging>=20.0 in /usr/local/lib/python3.11/dist-packages (from matplotlib->catboost) (24.2)\n",
            "Requirement already satisfied: pillow>=8 in /usr/local/lib/python3.11/dist-packages (from matplotlib->catboost) (11.1.0)\n",
            "Requirement already satisfied: pyparsing>=2.3.1 in /usr/local/lib/python3.11/dist-packages (from matplotlib->catboost) (3.2.1)\n",
            "Requirement already satisfied: tenacity>=6.2.0 in /usr/local/lib/python3.11/dist-packages (from plotly->catboost) (9.0.0)\n",
            "Downloading catboost-1.2.7-cp311-cp311-manylinux2014_x86_64.whl (98.7 MB)\n",
            "\u001b[2K   \u001b[90m━━━━━━━━━━━━━━━━━━━━━━━━━━━━━━━━━━━━━━━━\u001b[0m \u001b[32m98.7/98.7 MB\u001b[0m \u001b[31m6.2 MB/s\u001b[0m eta \u001b[36m0:00:00\u001b[0m\n",
            "\u001b[?25hInstalling collected packages: catboost\n",
            "Successfully installed catboost-1.2.7\n",
            "Collecting optuna\n",
            "  Downloading optuna-4.2.1-py3-none-any.whl.metadata (17 kB)\n",
            "Collecting alembic>=1.5.0 (from optuna)\n",
            "  Downloading alembic-1.14.1-py3-none-any.whl.metadata (7.4 kB)\n",
            "Collecting colorlog (from optuna)\n",
            "  Downloading colorlog-6.9.0-py3-none-any.whl.metadata (10 kB)\n",
            "Requirement already satisfied: numpy in /usr/local/lib/python3.11/dist-packages (from optuna) (1.26.4)\n",
            "Requirement already satisfied: packaging>=20.0 in /usr/local/lib/python3.11/dist-packages (from optuna) (24.2)\n",
            "Requirement already satisfied: sqlalchemy>=1.4.2 in /usr/local/lib/python3.11/dist-packages (from optuna) (2.0.37)\n",
            "Requirement already satisfied: tqdm in /usr/local/lib/python3.11/dist-packages (from optuna) (4.67.1)\n",
            "Requirement already satisfied: PyYAML in /usr/local/lib/python3.11/dist-packages (from optuna) (6.0.2)\n",
            "Collecting Mako (from alembic>=1.5.0->optuna)\n",
            "  Downloading Mako-1.3.9-py3-none-any.whl.metadata (2.9 kB)\n",
            "Requirement already satisfied: typing-extensions>=4 in /usr/local/lib/python3.11/dist-packages (from alembic>=1.5.0->optuna) (4.12.2)\n",
            "Requirement already satisfied: greenlet!=0.4.17 in /usr/local/lib/python3.11/dist-packages (from sqlalchemy>=1.4.2->optuna) (3.1.1)\n",
            "Requirement already satisfied: MarkupSafe>=0.9.2 in /usr/local/lib/python3.11/dist-packages (from Mako->alembic>=1.5.0->optuna) (3.0.2)\n",
            "Downloading optuna-4.2.1-py3-none-any.whl (383 kB)\n",
            "\u001b[2K   \u001b[90m━━━━━━━━━━━━━━━━━━━━━━━━━━━━━━━━━━━━━━━━\u001b[0m \u001b[32m383.6/383.6 kB\u001b[0m \u001b[31m11.9 MB/s\u001b[0m eta \u001b[36m0:00:00\u001b[0m\n",
            "\u001b[?25hDownloading alembic-1.14.1-py3-none-any.whl (233 kB)\n",
            "\u001b[2K   \u001b[90m━━━━━━━━━━━━━━━━━━━━━━━━━━━━━━━━━━━━━━━━\u001b[0m \u001b[32m233.6/233.6 kB\u001b[0m \u001b[31m14.9 MB/s\u001b[0m eta \u001b[36m0:00:00\u001b[0m\n",
            "\u001b[?25hDownloading colorlog-6.9.0-py3-none-any.whl (11 kB)\n",
            "Downloading Mako-1.3.9-py3-none-any.whl (78 kB)\n",
            "\u001b[2K   \u001b[90m━━━━━━━━━━━━━━━━━━━━━━━━━━━━━━━━━━━━━━━━\u001b[0m \u001b[32m78.5/78.5 kB\u001b[0m \u001b[31m4.8 MB/s\u001b[0m eta \u001b[36m0:00:00\u001b[0m\n",
            "\u001b[?25hInstalling collected packages: Mako, colorlog, alembic, optuna\n",
            "Successfully installed Mako-1.3.9 alembic-1.14.1 colorlog-6.9.0 optuna-4.2.1\n"
          ]
        }
      ],
      "source": [
        "!pip install pandas\n",
        "!pip install numpy\n",
        "!pip install scikit-learn\n",
        "!pip install catboost\n",
        "!pip install optuna"
      ]
    },
    {
      "cell_type": "code",
      "source": [
        "import pandas as pd\n",
        "import numpy as np\n",
        "from sklearn.model_selection import train_test_split\n",
        "from sklearn.metrics import accuracy_score\n",
        "from sklearn.metrics import mean_squared_error\n",
        "from catboost import CatBoostClassifier\n",
        "import optuna"
      ],
      "metadata": {
        "id": "RcIrQ80Lag-D"
      },
      "execution_count": 2,
      "outputs": []
    },
    {
      "cell_type": "code",
      "source": [
        "! mkdir ~/.kaggle"
      ],
      "metadata": {
        "id": "k3xYcitIbnxk"
      },
      "execution_count": 3,
      "outputs": []
    },
    {
      "cell_type": "code",
      "source": [
        "!cp /content/drive/MyDrive/CollabData/kaggle_API/kaggle.json ~/.kaggle/kaggle.json"
      ],
      "metadata": {
        "id": "mnkqlepJbrsS"
      },
      "execution_count": 4,
      "outputs": []
    },
    {
      "cell_type": "code",
      "source": [
        "! chmod 600 ~/.kaggle/kaggle.json"
      ],
      "metadata": {
        "id": "eSpCymNdbrgd"
      },
      "execution_count": 5,
      "outputs": []
    },
    {
      "cell_type": "code",
      "source": [
        "! kaggle competitions download titanic"
      ],
      "metadata": {
        "id": "szU1ARtBbyPI",
        "colab": {
          "base_uri": "https://localhost:8080/"
        },
        "outputId": "3975be49-a6a4-4269-fa35-660290ec602d"
      },
      "execution_count": 6,
      "outputs": [
        {
          "output_type": "stream",
          "name": "stdout",
          "text": [
            "Downloading titanic.zip to /content\n",
            "\r  0% 0.00/34.1k [00:00<?, ?B/s]\n",
            "\r100% 34.1k/34.1k [00:00<00:00, 15.8MB/s]\n"
          ]
        }
      ]
    },
    {
      "cell_type": "code",
      "source": [
        "! unzip titanic.zip"
      ],
      "metadata": {
        "id": "PHYiha3IcczE",
        "colab": {
          "base_uri": "https://localhost:8080/"
        },
        "outputId": "d6e52932-6ed1-4e2c-d5a6-cc5cd7d1ef99"
      },
      "execution_count": 7,
      "outputs": [
        {
          "output_type": "stream",
          "name": "stdout",
          "text": [
            "Archive:  titanic.zip\n",
            "  inflating: gender_submission.csv   \n",
            "  inflating: test.csv                \n",
            "  inflating: train.csv               \n"
          ]
        }
      ]
    },
    {
      "cell_type": "code",
      "source": [
        "# Load the data\n",
        "train_df = pd.read_csv('/content/train.csv')\n",
        "test_df = pd.read_csv('/content/test.csv')\n",
        "\n",
        "# Preprocessing\n",
        "def preprocess_data(df):\n",
        "    # Drop irrelevant columns\n",
        "    df = df.drop(['PassengerId', 'Name', 'Ticket', 'Cabin'], axis=1)\n",
        "\n",
        "    # Fill missing values\n",
        "    df['Age'].fillna(df['Age'].median(), inplace=True)\n",
        "    df['Embarked'].fillna(df['Embarked'].mode()[0], inplace=True)\n",
        "\n",
        "    # One-hot encoding for categorical features\n",
        "    df = pd.get_dummies(df, columns=['Sex', 'Embarked'], drop_first=True)\n",
        "\n",
        "    return df\n",
        "\n",
        "train_df = preprocess_data(train_df)\n",
        "test_df = preprocess_data(test_df)\n",
        "\n",
        "# Separate features and target\n",
        "X = train_df.drop('Survived', axis=1)\n",
        "y = train_df['Survived']\n",
        "\n",
        "# Split data into training and validation sets\n",
        "X_train, X_val, y_train, y_val = train_test_split(X, y, test_size=0.2, random_state=42)"
      ],
      "metadata": {
        "id": "_t8VdP0Fbh-O",
        "colab": {
          "base_uri": "https://localhost:8080/"
        },
        "outputId": "6cd16d2b-6e5d-4168-f3a3-7d71ada7ade3"
      },
      "execution_count": 8,
      "outputs": [
        {
          "output_type": "stream",
          "name": "stderr",
          "text": [
            "<ipython-input-8-379826112577>:11: FutureWarning: A value is trying to be set on a copy of a DataFrame or Series through chained assignment using an inplace method.\n",
            "The behavior will change in pandas 3.0. This inplace method will never work because the intermediate object on which we are setting values always behaves as a copy.\n",
            "\n",
            "For example, when doing 'df[col].method(value, inplace=True)', try using 'df.method({col: value}, inplace=True)' or df[col] = df[col].method(value) instead, to perform the operation inplace on the original object.\n",
            "\n",
            "\n",
            "  df['Age'].fillna(df['Age'].median(), inplace=True)\n",
            "<ipython-input-8-379826112577>:12: FutureWarning: A value is trying to be set on a copy of a DataFrame or Series through chained assignment using an inplace method.\n",
            "The behavior will change in pandas 3.0. This inplace method will never work because the intermediate object on which we are setting values always behaves as a copy.\n",
            "\n",
            "For example, when doing 'df[col].method(value, inplace=True)', try using 'df.method({col: value}, inplace=True)' or df[col] = df[col].method(value) instead, to perform the operation inplace on the original object.\n",
            "\n",
            "\n",
            "  df['Embarked'].fillna(df['Embarked'].mode()[0], inplace=True)\n",
            "<ipython-input-8-379826112577>:11: FutureWarning: A value is trying to be set on a copy of a DataFrame or Series through chained assignment using an inplace method.\n",
            "The behavior will change in pandas 3.0. This inplace method will never work because the intermediate object on which we are setting values always behaves as a copy.\n",
            "\n",
            "For example, when doing 'df[col].method(value, inplace=True)', try using 'df.method({col: value}, inplace=True)' or df[col] = df[col].method(value) instead, to perform the operation inplace on the original object.\n",
            "\n",
            "\n",
            "  df['Age'].fillna(df['Age'].median(), inplace=True)\n",
            "<ipython-input-8-379826112577>:12: FutureWarning: A value is trying to be set on a copy of a DataFrame or Series through chained assignment using an inplace method.\n",
            "The behavior will change in pandas 3.0. This inplace method will never work because the intermediate object on which we are setting values always behaves as a copy.\n",
            "\n",
            "For example, when doing 'df[col].method(value, inplace=True)', try using 'df.method({col: value}, inplace=True)' or df[col] = df[col].method(value) instead, to perform the operation inplace on the original object.\n",
            "\n",
            "\n",
            "  df['Embarked'].fillna(df['Embarked'].mode()[0], inplace=True)\n"
          ]
        }
      ]
    },
    {
      "cell_type": "code",
      "source": [
        "def objective(trial):\n",
        "    params = {\n",
        "        'iterations': trial.suggest_int('iterations', 100, 1000),\n",
        "        'learning_rate': trial.suggest_float('learning_rate', 1e-3, 1e-1, log=True),\n",
        "        'depth': trial.suggest_int('depth', 4, 10),\n",
        "        'l2_leaf_reg': trial.suggest_float('l2_leaf_reg', 1e-8, 10.0, log=True),\n",
        "        'border_count': trial.suggest_int('border_count', 32, 255),\n",
        "        'random_strength': trial.suggest_float('random_strength', 1e-9, 10.0, log=True),\n",
        "        'bagging_temperature': trial.suggest_float('bagging_temperature', 0.0, 10.0),\n",
        "        'od_type': trial.suggest_categorical('od_type', ['IncToDec', 'Iter']), # Changed 'EBS' to 'Iter'\n",
        "        'od_wait': trial.suggest_int('od_wait', 10, 50),\n",
        "        'verbose': False  # Set verbose to False to suppress training output\n",
        "    }\n",
        "\n",
        "    model = CatBoostClassifier(**params)\n",
        "    model.fit(X_train, y_train, eval_set=[(X_val, y_val)], early_stopping_rounds=100)  # Add early stopping\n",
        "\n",
        "    y_pred = model.predict(X_val)\n",
        "    accuracy = accuracy_score(y_val, y_pred)\n",
        "\n",
        "    return accuracy  # Optuna maximizes accuracy"
      ],
      "metadata": {
        "id": "yMeIKtCDcuBj"
      },
      "execution_count": 12,
      "outputs": []
    },
    {
      "cell_type": "code",
      "source": [
        "# Create and run an Optuna study\n",
        "study = optuna.create_study(direction='minimize')\n",
        "study.optimize(objective, n_trials=100)  # Increased number of trials\n",
        "\n",
        "# Get the best hyperparameters\n",
        "best_params = study.best_params"
      ],
      "metadata": {
        "id": "GZkLXPZ0eUN2",
        "colab": {
          "base_uri": "https://localhost:8080/"
        },
        "outputId": "1defe6db-bec3-476b-bb84-88a97edaa8e9"
      },
      "execution_count": 13,
      "outputs": [
        {
          "output_type": "stream",
          "name": "stderr",
          "text": [
            "[I 2025-02-12 18:12:08,109] A new study created in memory with name: no-name-295f6a0b-8229-4cbe-9b4b-0c3a8d0eb33f\n",
            "[I 2025-02-12 18:12:08,392] Trial 0 finished with value: 0.8044692737430168 and parameters: {'iterations': 318, 'learning_rate': 0.034481464697705064, 'depth': 7, 'l2_leaf_reg': 1.1994797933979945e-06, 'border_count': 223, 'random_strength': 0.43174503180082524, 'bagging_temperature': 6.46869503911912, 'od_type': 'Iter', 'od_wait': 49}. Best is trial 0 with value: 0.8044692737430168.\n",
            "[I 2025-02-12 18:12:08,578] Trial 1 finished with value: 0.7877094972067039 and parameters: {'iterations': 210, 'learning_rate': 0.0759528981379955, 'depth': 7, 'l2_leaf_reg': 0.0008824337108021507, 'border_count': 149, 'random_strength': 0.18994229501442617, 'bagging_temperature': 4.980257872269012, 'od_type': 'Iter', 'od_wait': 34}. Best is trial 1 with value: 0.7877094972067039.\n",
            "[I 2025-02-12 18:12:09,772] Trial 2 finished with value: 0.8100558659217877 and parameters: {'iterations': 742, 'learning_rate': 0.004025231518817177, 'depth': 7, 'l2_leaf_reg': 0.09158444951671313, 'border_count': 229, 'random_strength': 8.214601139153583e-09, 'bagging_temperature': 8.325824762723492, 'od_type': 'Iter', 'od_wait': 25}. Best is trial 1 with value: 0.7877094972067039.\n",
            "[I 2025-02-12 18:12:11,148] Trial 3 finished with value: 0.7988826815642458 and parameters: {'iterations': 874, 'learning_rate': 0.0018530940422947033, 'depth': 7, 'l2_leaf_reg': 8.338918205141667, 'border_count': 195, 'random_strength': 3.2340043872538713e-09, 'bagging_temperature': 0.3339728414827947, 'od_type': 'IncToDec', 'od_wait': 39}. Best is trial 1 with value: 0.7877094972067039.\n",
            "[I 2025-02-12 18:12:11,458] Trial 4 finished with value: 0.8156424581005587 and parameters: {'iterations': 138, 'learning_rate': 0.008998577830659866, 'depth': 8, 'l2_leaf_reg': 2.141219855695683e-05, 'border_count': 251, 'random_strength': 3.112320358284253e-07, 'bagging_temperature': 9.455846535242053, 'od_type': 'IncToDec', 'od_wait': 34}. Best is trial 1 with value: 0.7877094972067039.\n",
            "[I 2025-02-12 18:12:11,858] Trial 5 finished with value: 0.8268156424581006 and parameters: {'iterations': 204, 'learning_rate': 0.02243652833536521, 'depth': 8, 'l2_leaf_reg': 1.408509235329835, 'border_count': 91, 'random_strength': 0.1380272560425748, 'bagging_temperature': 4.211785184532698, 'od_type': 'Iter', 'od_wait': 50}. Best is trial 1 with value: 0.7877094972067039.\n",
            "[I 2025-02-12 18:12:12,459] Trial 6 finished with value: 0.8324022346368715 and parameters: {'iterations': 368, 'learning_rate': 0.03560483223521688, 'depth': 9, 'l2_leaf_reg': 0.1395409261011991, 'border_count': 174, 'random_strength': 6.88491227098985e-07, 'bagging_temperature': 7.704405639178335, 'od_type': 'Iter', 'od_wait': 29}. Best is trial 1 with value: 0.7877094972067039.\n",
            "[I 2025-02-12 18:12:12,894] Trial 7 finished with value: 0.7988826815642458 and parameters: {'iterations': 925, 'learning_rate': 0.006977294628448408, 'depth': 5, 'l2_leaf_reg': 2.255251793742972e-05, 'border_count': 142, 'random_strength': 2.257994048800529e-06, 'bagging_temperature': 7.287432825112131, 'od_type': 'Iter', 'od_wait': 29}. Best is trial 1 with value: 0.7877094972067039.\n",
            "[I 2025-02-12 18:12:13,280] Trial 8 finished with value: 0.8100558659217877 and parameters: {'iterations': 256, 'learning_rate': 0.005917147717226563, 'depth': 8, 'l2_leaf_reg': 0.06797121228090676, 'border_count': 128, 'random_strength': 4.7951183655879746, 'bagging_temperature': 4.291733913154758, 'od_type': 'IncToDec', 'od_wait': 24}. Best is trial 1 with value: 0.7877094972067039.\n",
            "[I 2025-02-12 18:12:20,127] Trial 9 finished with value: 0.7988826815642458 and parameters: {'iterations': 903, 'learning_rate': 0.0010738372415236741, 'depth': 10, 'l2_leaf_reg': 2.008772023180212e-08, 'border_count': 181, 'random_strength': 1.948843609070815e-07, 'bagging_temperature': 9.493346569875955, 'od_type': 'IncToDec', 'od_wait': 30}. Best is trial 1 with value: 0.7877094972067039.\n",
            "[I 2025-02-12 18:12:20,344] Trial 10 finished with value: 0.8156424581005587 and parameters: {'iterations': 477, 'learning_rate': 0.06439881287402764, 'depth': 4, 'l2_leaf_reg': 0.0008125591449546778, 'border_count': 42, 'random_strength': 0.002164104440864027, 'bagging_temperature': 2.0833594514181106, 'od_type': 'Iter', 'od_wait': 10}. Best is trial 1 with value: 0.7877094972067039.\n",
            "[I 2025-02-12 18:12:21,128] Trial 11 finished with value: 0.8212290502793296 and parameters: {'iterations': 690, 'learning_rate': 0.0014978205059700215, 'depth': 6, 'l2_leaf_reg': 0.003068919611525666, 'border_count': 186, 'random_strength': 0.0008571289109565145, 'bagging_temperature': 0.4267156310764548, 'od_type': 'IncToDec', 'od_wait': 41}. Best is trial 1 with value: 0.7877094972067039.\n",
            "[I 2025-02-12 18:12:21,344] Trial 12 finished with value: 0.8100558659217877 and parameters: {'iterations': 605, 'learning_rate': 0.09928332118793057, 'depth': 6, 'l2_leaf_reg': 0.9799125815278061, 'border_count': 99, 'random_strength': 1.4334085482822896e-09, 'bagging_temperature': 2.423956048431268, 'od_type': 'IncToDec', 'od_wait': 39}. Best is trial 1 with value: 0.7877094972067039.\n",
            "[I 2025-02-12 18:12:21,947] Trial 13 finished with value: 0.8156424581005587 and parameters: {'iterations': 500, 'learning_rate': 0.0025229359324277154, 'depth': 6, 'l2_leaf_reg': 0.006104321450034806, 'border_count': 199, 'random_strength': 4.116573975425022e-05, 'bagging_temperature': 0.21280075859912095, 'od_type': 'IncToDec', 'od_wait': 41}. Best is trial 1 with value: 0.7877094972067039.\n",
            "[I 2025-02-12 18:12:22,718] Trial 14 finished with value: 0.8044692737430168 and parameters: {'iterations': 791, 'learning_rate': 0.01673364904693105, 'depth': 5, 'l2_leaf_reg': 8.962363480629012, 'border_count': 157, 'random_strength': 0.021241334574367818, 'bagging_temperature': 5.767297426603344, 'od_type': 'Iter', 'od_wait': 17}. Best is trial 1 with value: 0.7877094972067039.\n",
            "[I 2025-02-12 18:12:23,905] Trial 15 finished with value: 0.8156424581005587 and parameters: {'iterations': 413, 'learning_rate': 0.0034839442909758546, 'depth': 9, 'l2_leaf_reg': 4.961722148710436e-05, 'border_count': 114, 'random_strength': 3.111845670551251e-05, 'bagging_temperature': 2.8172147909248637, 'od_type': 'IncToDec', 'od_wait': 34}. Best is trial 1 with value: 0.7877094972067039.\n",
            "[I 2025-02-12 18:12:24,268] Trial 16 finished with value: 0.8156424581005587 and parameters: {'iterations': 992, 'learning_rate': 0.015017677297392692, 'depth': 7, 'l2_leaf_reg': 6.014937791176418e-07, 'border_count': 66, 'random_strength': 7.264592662463147, 'bagging_temperature': 3.5218752396158344, 'od_type': 'IncToDec', 'od_wait': 37}. Best is trial 1 with value: 0.7877094972067039.\n",
            "[I 2025-02-12 18:12:24,878] Trial 17 finished with value: 0.8100558659217877 and parameters: {'iterations': 582, 'learning_rate': 0.001899823193005559, 'depth': 5, 'l2_leaf_reg': 9.955656913821974, 'border_count': 211, 'random_strength': 0.0007913017751824521, 'bagging_temperature': 1.3207776507494091, 'od_type': 'Iter', 'od_wait': 44}. Best is trial 1 with value: 0.7877094972067039.\n",
            "[I 2025-02-12 18:12:25,217] Trial 18 finished with value: 0.8044692737430168 and parameters: {'iterations': 106, 'learning_rate': 0.05189606512613748, 'depth': 9, 'l2_leaf_reg': 0.011941771033413451, 'border_count': 160, 'random_strength': 2.131250487337172e-08, 'bagging_temperature': 5.649554284638791, 'od_type': 'IncToDec', 'od_wait': 46}. Best is trial 1 with value: 0.7877094972067039.\n",
            "[I 2025-02-12 18:12:25,433] Trial 19 finished with value: 0.8268156424581006 and parameters: {'iterations': 821, 'learning_rate': 0.09970233828286874, 'depth': 6, 'l2_leaf_reg': 1.0521303999950673e-06, 'border_count': 140, 'random_strength': 8.973615873558734e-06, 'bagging_temperature': 4.768035178021584, 'od_type': 'Iter', 'od_wait': 22}. Best is trial 1 with value: 0.7877094972067039.\n",
            "[I 2025-02-12 18:12:25,896] Trial 20 finished with value: 0.8268156424581006 and parameters: {'iterations': 664, 'learning_rate': 0.012692855438759542, 'depth': 8, 'l2_leaf_reg': 1.0320377446983991e-08, 'border_count': 243, 'random_strength': 0.025461507573579692, 'bagging_temperature': 1.3862956802292175, 'od_type': 'IncToDec', 'od_wait': 34}. Best is trial 1 with value: 0.7877094972067039.\n",
            "[I 2025-02-12 18:12:26,268] Trial 21 finished with value: 0.8044692737430168 and parameters: {'iterations': 996, 'learning_rate': 0.0071748534195022395, 'depth': 4, 'l2_leaf_reg': 6.550896294323543e-05, 'border_count': 148, 'random_strength': 5.607431882682643e-06, 'bagging_temperature': 7.137314483084794, 'od_type': 'Iter', 'od_wait': 29}. Best is trial 1 with value: 0.7877094972067039.\n",
            "[I 2025-02-12 18:12:26,847] Trial 22 finished with value: 0.8156424581005587 and parameters: {'iterations': 871, 'learning_rate': 0.004890279325607955, 'depth': 5, 'l2_leaf_reg': 0.00027167289976363955, 'border_count': 123, 'random_strength': 1.0337632694946442e-09, 'bagging_temperature': 8.458256242949293, 'od_type': 'Iter', 'od_wait': 36}. Best is trial 1 with value: 0.7877094972067039.\n",
            "[I 2025-02-12 18:12:27,558] Trial 23 finished with value: 0.8156424581005587 and parameters: {'iterations': 903, 'learning_rate': 0.002804440036868145, 'depth': 5, 'l2_leaf_reg': 8.119647494018835e-06, 'border_count': 199, 'random_strength': 3.700935308966986e-08, 'bagging_temperature': 6.795224893341966, 'od_type': 'Iter', 'od_wait': 30}. Best is trial 1 with value: 0.7877094972067039.\n",
            "[I 2025-02-12 18:12:27,996] Trial 24 finished with value: 0.8212290502793296 and parameters: {'iterations': 744, 'learning_rate': 0.02557953200002038, 'depth': 7, 'l2_leaf_reg': 6.668031891318732e-08, 'border_count': 169, 'random_strength': 1.9056773973545266e-06, 'bagging_temperature': 5.656981989754578, 'od_type': 'Iter', 'od_wait': 20}. Best is trial 1 with value: 0.7877094972067039.\n",
            "[I 2025-02-12 18:12:28,802] Trial 25 finished with value: 0.8212290502793296 and parameters: {'iterations': 938, 'learning_rate': 0.009321410553236468, 'depth': 6, 'l2_leaf_reg': 2.9288379548501865e-06, 'border_count': 106, 'random_strength': 0.00012000448319882761, 'bagging_temperature': 3.1517033753779238, 'od_type': 'Iter', 'od_wait': 32}. Best is trial 1 with value: 0.7877094972067039.\n",
            "[I 2025-02-12 18:12:29,948] Trial 26 finished with value: 0.8044692737430168 and parameters: {'iterations': 819, 'learning_rate': 0.001018289669148511, 'depth': 4, 'l2_leaf_reg': 0.0002352300439296676, 'border_count': 79, 'random_strength': 4.5403802758936806e-08, 'bagging_temperature': 8.537513906996097, 'od_type': 'Iter', 'od_wait': 26}. Best is trial 1 with value: 0.7877094972067039.\n",
            "[I 2025-02-12 18:12:31,434] Trial 27 finished with value: 0.8268156424581006 and parameters: {'iterations': 519, 'learning_rate': 0.001685069993051089, 'depth': 7, 'l2_leaf_reg': 0.0011084137377615315, 'border_count': 136, 'random_strength': 0.005588296797110846, 'bagging_temperature': 6.267431911004724, 'od_type': 'Iter', 'od_wait': 44}. Best is trial 1 with value: 0.7877094972067039.\n",
            "[I 2025-02-12 18:12:33,160] Trial 28 finished with value: 0.7988826815642458 and parameters: {'iterations': 637, 'learning_rate': 0.00623294225087858, 'depth': 10, 'l2_leaf_reg': 1.4315010974049312e-07, 'border_count': 194, 'random_strength': 0.00019516342701002677, 'bagging_temperature': 7.279309314090813, 'od_type': 'IncToDec', 'od_wait': 38}. Best is trial 1 with value: 0.7877094972067039.\n",
            "[I 2025-02-12 18:12:33,516] Trial 29 finished with value: 0.8156424581005587 and parameters: {'iterations': 327, 'learning_rate': 0.05028065137501742, 'depth': 8, 'l2_leaf_reg': 0.030803492040883427, 'border_count': 219, 'random_strength': 0.4359429932982057, 'bagging_temperature': 3.6850486515242142, 'od_type': 'Iter', 'od_wait': 17}. Best is trial 1 with value: 0.7877094972067039.\n",
            "[I 2025-02-12 18:12:33,893] Trial 30 finished with value: 0.8156424581005587 and parameters: {'iterations': 435, 'learning_rate': 0.03289593730110436, 'depth': 6, 'l2_leaf_reg': 0.34296748823741, 'border_count': 151, 'random_strength': 0.5623442829604082, 'bagging_temperature': 5.0220352676558715, 'od_type': 'Iter', 'od_wait': 46}. Best is trial 1 with value: 0.7877094972067039.\n",
            "[I 2025-02-12 18:12:38,823] Trial 31 finished with value: 0.8044692737430168 and parameters: {'iterations': 913, 'learning_rate': 0.0010564634191745968, 'depth': 10, 'l2_leaf_reg': 7.216405628978493e-08, 'border_count': 178, 'random_strength': 1.2274029824163248e-07, 'bagging_temperature': 9.999781568032331, 'od_type': 'IncToDec', 'od_wait': 27}. Best is trial 1 with value: 0.7877094972067039.\n",
            "[I 2025-02-12 18:12:40,101] Trial 32 finished with value: 0.8156424581005587 and parameters: {'iterations': 872, 'learning_rate': 0.001319410145984896, 'depth': 7, 'l2_leaf_reg': 1.8302043236446866e-08, 'border_count': 170, 'random_strength': 8.957162163107461e-09, 'bagging_temperature': 9.239297222822701, 'od_type': 'IncToDec', 'od_wait': 32}. Best is trial 1 with value: 0.7877094972067039.\n",
            "[I 2025-02-12 18:12:42,909] Trial 33 finished with value: 0.8044692737430168 and parameters: {'iterations': 743, 'learning_rate': 0.00212256993255422, 'depth': 9, 'l2_leaf_reg': 2.808996343518841e-07, 'border_count': 230, 'random_strength': 3.3361282710019184e-07, 'bagging_temperature': 7.901782108385186, 'od_type': 'IncToDec', 'od_wait': 32}. Best is trial 1 with value: 0.7877094972067039.\n",
            "[I 2025-02-12 18:12:44,847] Trial 34 finished with value: 0.8044692737430168 and parameters: {'iterations': 838, 'learning_rate': 0.003942355340969925, 'depth': 8, 'l2_leaf_reg': 6.172611224260261e-06, 'border_count': 212, 'random_strength': 8.330737705118079e-09, 'bagging_temperature': 9.166687079006692, 'od_type': 'IncToDec', 'od_wait': 35}. Best is trial 1 with value: 0.7877094972067039.\n",
            "[I 2025-02-12 18:12:49,942] Trial 35 finished with value: 0.7988826815642458 and parameters: {'iterations': 953, 'learning_rate': 0.0012495833579161315, 'depth': 10, 'l2_leaf_reg': 2.942586633617205e-05, 'border_count': 181, 'random_strength': 1.989488274559711e-06, 'bagging_temperature': 9.82755290773176, 'od_type': 'IncToDec', 'od_wait': 28}. Best is trial 1 with value: 0.7877094972067039.\n",
            "[I 2025-02-12 18:12:50,400] Trial 36 finished with value: 0.8044692737430168 and parameters: {'iterations': 290, 'learning_rate': 0.0027113322676498627, 'depth': 7, 'l2_leaf_reg': 1.4006114749877685, 'border_count': 165, 'random_strength': 2.049586068111096e-07, 'bagging_temperature': 8.921298100726025, 'od_type': 'IncToDec', 'od_wait': 23}. Best is trial 1 with value: 0.7877094972067039.\n",
            "[I 2025-02-12 18:12:50,677] Trial 37 finished with value: 0.8156424581005587 and parameters: {'iterations': 194, 'learning_rate': 0.01138996526880432, 'depth': 7, 'l2_leaf_reg': 0.00010149553838685446, 'border_count': 129, 'random_strength': 3.4178516153843544e-09, 'bagging_temperature': 7.842415502400738, 'od_type': 'Iter', 'od_wait': 40}. Best is trial 1 with value: 0.7877094972067039.\n",
            "[I 2025-02-12 18:12:51,151] Trial 38 finished with value: 0.8100558659217877 and parameters: {'iterations': 768, 'learning_rate': 0.020054311844387846, 'depth': 8, 'l2_leaf_reg': 0.0014420044343467914, 'border_count': 237, 'random_strength': 1.0379193540677842e-06, 'bagging_temperature': 6.218852015025699, 'od_type': 'IncToDec', 'od_wait': 31}. Best is trial 1 with value: 0.7877094972067039.\n",
            "[I 2025-02-12 18:12:53,610] Trial 39 finished with value: 0.8156424581005587 and parameters: {'iterations': 713, 'learning_rate': 0.002066586208166422, 'depth': 9, 'l2_leaf_reg': 0.032135339287669776, 'border_count': 188, 'random_strength': 8.121954882357832e-08, 'bagging_temperature': 1.1671342842341808, 'od_type': 'Iter', 'od_wait': 25}. Best is trial 1 with value: 0.7877094972067039.\n",
            "[I 2025-02-12 18:12:54,265] Trial 40 finished with value: 0.8100558659217877 and parameters: {'iterations': 955, 'learning_rate': 0.007376357682650233, 'depth': 5, 'l2_leaf_reg': 0.418073380010805, 'border_count': 254, 'random_strength': 5.057198705410716e-07, 'bagging_temperature': 4.652384183123932, 'od_type': 'IncToDec', 'od_wait': 42}. Best is trial 1 with value: 0.7877094972067039.\n",
            "[I 2025-02-12 18:12:55,730] Trial 41 finished with value: 0.8044692737430168 and parameters: {'iterations': 640, 'learning_rate': 0.005932211053362539, 'depth': 10, 'l2_leaf_reg': 6.581181555922953e-08, 'border_count': 198, 'random_strength': 0.00031542576074783683, 'bagging_temperature': 7.143178935777555, 'od_type': 'IncToDec', 'od_wait': 37}. Best is trial 1 with value: 0.7877094972067039.\n",
            "[I 2025-02-12 18:12:58,546] Trial 42 finished with value: 0.8044692737430168 and parameters: {'iterations': 870, 'learning_rate': 0.005227331893176406, 'depth': 10, 'l2_leaf_reg': 1.817960243378975e-07, 'border_count': 193, 'random_strength': 9.806172788425944e-06, 'bagging_temperature': 7.408383406125521, 'od_type': 'IncToDec', 'od_wait': 38}. Best is trial 1 with value: 0.7877094972067039.\n",
            "[I 2025-02-12 18:13:00,479] Trial 43 finished with value: 0.8100558659217877 and parameters: {'iterations': 220, 'learning_rate': 0.003411586656366752, 'depth': 10, 'l2_leaf_reg': 2.5302187713073962e-06, 'border_count': 153, 'random_strength': 0.054622745146793154, 'bagging_temperature': 6.78616526560568, 'od_type': 'IncToDec', 'od_wait': 39}. Best is trial 1 with value: 0.7877094972067039.\n",
            "[I 2025-02-12 18:13:01,332] Trial 44 finished with value: 0.8044692737430168 and parameters: {'iterations': 565, 'learning_rate': 0.00732704249942672, 'depth': 9, 'l2_leaf_reg': 1.7907454717340667e-08, 'border_count': 209, 'random_strength': 3.2828902002992465e-05, 'bagging_temperature': 8.252670141144566, 'od_type': 'IncToDec', 'od_wait': 33}. Best is trial 1 with value: 0.7877094972067039.\n",
            "[I 2025-02-12 18:13:01,943] Trial 45 finished with value: 0.8100558659217877 and parameters: {'iterations': 355, 'learning_rate': 0.0016447233560097794, 'depth': 8, 'l2_leaf_reg': 1.0802492825080493e-05, 'border_count': 183, 'random_strength': 2.0182907996332964, 'bagging_temperature': 3.9912787781178967, 'od_type': 'IncToDec', 'od_wait': 35}. Best is trial 1 with value: 0.7877094972067039.\n",
            "[I 2025-02-12 18:13:02,179] Trial 46 finished with value: 0.8379888268156425 and parameters: {'iterations': 792, 'learning_rate': 0.0679827719411924, 'depth': 6, 'l2_leaf_reg': 3.313990380958638e-07, 'border_count': 119, 'random_strength': 0.004262740468354626, 'bagging_temperature': 5.189832096773877, 'od_type': 'IncToDec', 'od_wait': 30}. Best is trial 1 with value: 0.7877094972067039.\n",
            "[I 2025-02-12 18:13:03,612] Trial 47 finished with value: 0.8156424581005587 and parameters: {'iterations': 642, 'learning_rate': 0.004361189320692638, 'depth': 10, 'l2_leaf_reg': 3.938967310971188e-08, 'border_count': 139, 'random_strength': 3.94700190042652e-09, 'bagging_temperature': 2.1811264504269494, 'od_type': 'Iter', 'od_wait': 43}. Best is trial 1 with value: 0.7877094972067039.\n",
            "[I 2025-02-12 18:13:04,304] Trial 48 finished with value: 0.8044692737430168 and parameters: {'iterations': 458, 'learning_rate': 0.011526541108093582, 'depth': 9, 'l2_leaf_reg': 9.592707271126243e-07, 'border_count': 202, 'random_strength': 0.0002529945214160049, 'bagging_temperature': 9.524154737115081, 'od_type': 'IncToDec', 'od_wait': 37}. Best is trial 1 with value: 0.7877094972067039.\n",
            "[I 2025-02-12 18:13:04,769] Trial 49 finished with value: 0.8044692737430168 and parameters: {'iterations': 397, 'learning_rate': 0.0012632459860264082, 'depth': 7, 'l2_leaf_reg': 3.7392895639072723, 'border_count': 33, 'random_strength': 1.55924821925591e-08, 'bagging_temperature': 0.80594153537265, 'od_type': 'Iter', 'od_wait': 10}. Best is trial 1 with value: 0.7877094972067039.\n",
            "[I 2025-02-12 18:13:05,178] Trial 50 finished with value: 0.8156424581005587 and parameters: {'iterations': 701, 'learning_rate': 0.014357455684237049, 'depth': 8, 'l2_leaf_reg': 0.003294405344826947, 'border_count': 162, 'random_strength': 3.7200936497207906e-06, 'bagging_temperature': 5.957672843964074, 'od_type': 'IncToDec', 'od_wait': 48}. Best is trial 1 with value: 0.7877094972067039.\n",
            "[I 2025-02-12 18:13:09,096] Trial 51 finished with value: 0.8156424581005587 and parameters: {'iterations': 958, 'learning_rate': 0.0013073971366471765, 'depth': 10, 'l2_leaf_reg': 2.396875618398677e-05, 'border_count': 179, 'random_strength': 1.1778040160217108e-05, 'bagging_temperature': 9.981022066615148, 'od_type': 'IncToDec', 'od_wait': 28}. Best is trial 1 with value: 0.7877094972067039.\n",
            "[I 2025-02-12 18:13:15,697] Trial 52 finished with value: 0.8156424581005587 and parameters: {'iterations': 918, 'learning_rate': 0.0011751991715130282, 'depth': 10, 'l2_leaf_reg': 1.9859427788533073e-05, 'border_count': 188, 'random_strength': 2.289990781669363e-06, 'bagging_temperature': 9.617517759908504, 'od_type': 'IncToDec', 'od_wait': 28}. Best is trial 1 with value: 0.7877094972067039.\n",
            "[I 2025-02-12 18:13:18,204] Trial 53 finished with value: 0.8212290502793296 and parameters: {'iterations': 963, 'learning_rate': 0.0031298758761458385, 'depth': 10, 'l2_leaf_reg': 0.0005395924283572071, 'border_count': 176, 'random_strength': 6.248208824577131e-07, 'bagging_temperature': 8.753162538873287, 'od_type': 'IncToDec', 'od_wait': 34}. Best is trial 1 with value: 0.7877094972067039.\n",
            "[I 2025-02-12 18:13:21,033] Trial 54 finished with value: 0.8044692737430168 and parameters: {'iterations': 850, 'learning_rate': 0.0016624704772487777, 'depth': 9, 'l2_leaf_reg': 3.9193229886324345e-06, 'border_count': 222, 'random_strength': 2.0546470688929608e-05, 'bagging_temperature': 8.13774135565459, 'od_type': 'IncToDec', 'od_wait': 25}. Best is trial 1 with value: 0.7877094972067039.\n",
            "[I 2025-02-12 18:13:23,387] Trial 55 finished with value: 0.8156424581005587 and parameters: {'iterations': 996, 'learning_rate': 0.0023169024980189447, 'depth': 10, 'l2_leaf_reg': 1.3142499056274118e-07, 'border_count': 145, 'random_strength': 1.2655661214168658e-06, 'bagging_temperature': 8.896054642375482, 'od_type': 'IncToDec', 'od_wait': 21}. Best is trial 1 with value: 0.7877094972067039.\n",
            "[I 2025-02-12 18:13:24,155] Trial 56 finished with value: 0.8044692737430168 and parameters: {'iterations': 887, 'learning_rate': 0.0014605284256426544, 'depth': 4, 'l2_leaf_reg': 0.00015420172325116528, 'border_count': 158, 'random_strength': 9.790155765544562e-05, 'bagging_temperature': 7.624781220660161, 'od_type': 'Iter', 'od_wait': 30}. Best is trial 1 with value: 0.7877094972067039.\n",
            "[I 2025-02-12 18:13:25,785] Trial 57 finished with value: 0.8156424581005587 and parameters: {'iterations': 797, 'learning_rate': 0.008171194444936716, 'depth': 9, 'l2_leaf_reg': 4.5857809366292606e-05, 'border_count': 206, 'random_strength': 0.001444488955323462, 'bagging_temperature': 5.341366757645334, 'od_type': 'IncToDec', 'od_wait': 27}. Best is trial 1 with value: 0.7877094972067039.\n",
            "[I 2025-02-12 18:13:27,377] Trial 58 finished with value: 0.8268156424581006 and parameters: {'iterations': 935, 'learning_rate': 0.0018768685642168764, 'depth': 6, 'l2_leaf_reg': 1.5805761430823489e-06, 'border_count': 131, 'random_strength': 5.134486721473912e-08, 'bagging_temperature': 4.33497565712581, 'od_type': 'Iter', 'od_wait': 40}. Best is trial 1 with value: 0.7877094972067039.\n",
            "[I 2025-02-12 18:13:27,902] Trial 59 finished with value: 0.8212290502793296 and parameters: {'iterations': 827, 'learning_rate': 0.02678760968111151, 'depth': 5, 'l2_leaf_reg': 0.007561192678590762, 'border_count': 170, 'random_strength': 1.8035520692624102e-07, 'bagging_temperature': 6.608259380846185, 'od_type': 'IncToDec', 'od_wait': 36}. Best is trial 1 with value: 0.7877094972067039.\n",
            "[I 2025-02-12 18:13:28,710] Trial 60 finished with value: 0.7988826815642458 and parameters: {'iterations': 534, 'learning_rate': 0.00605157257895662, 'depth': 9, 'l2_leaf_reg': 5.34611556022053e-07, 'border_count': 109, 'random_strength': 3.3103194279825838e-06, 'bagging_temperature': 1.851388160897256, 'od_type': 'Iter', 'od_wait': 13}. Best is trial 1 with value: 0.7877094972067039.\n",
            "[I 2025-02-12 18:13:29,675] Trial 61 finished with value: 0.8044692737430168 and parameters: {'iterations': 503, 'learning_rate': 0.00524466149959133, 'depth': 10, 'l2_leaf_reg': 6.351382988147386e-07, 'border_count': 84, 'random_strength': 3.1841852234699066e-06, 'bagging_temperature': 0.35659244155714886, 'od_type': 'Iter', 'od_wait': 13}. Best is trial 1 with value: 0.7877094972067039.\n",
            "[I 2025-02-12 18:13:30,162] Trial 62 finished with value: 0.8379888268156425 and parameters: {'iterations': 895, 'learning_rate': 0.008883041206792506, 'depth': 9, 'l2_leaf_reg': 3.3713832599595326e-08, 'border_count': 105, 'random_strength': 0.1922818578124418, 'bagging_temperature': 1.5778573586829836, 'od_type': 'Iter', 'od_wait': 18}. Best is trial 1 with value: 0.7877094972067039.\n",
            "[I 2025-02-12 18:13:33,988] Trial 63 finished with value: 0.7988826815642458 and parameters: {'iterations': 602, 'learning_rate': 0.0010138098115153515, 'depth': 10, 'l2_leaf_reg': 1.0870352439704418e-08, 'border_count': 194, 'random_strength': 6.261413799746413e-05, 'bagging_temperature': 2.8269895979709245, 'od_type': 'Iter', 'od_wait': 13}. Best is trial 1 with value: 0.7877094972067039.\n",
            "[I 2025-02-12 18:13:34,336] Trial 64 finished with value: 0.8156424581005587 and parameters: {'iterations': 104, 'learning_rate': 0.0036964817504511584, 'depth': 10, 'l2_leaf_reg': 1.2601477477120156e-07, 'border_count': 61, 'random_strength': 1.0386170027166874e-06, 'bagging_temperature': 0.12735567071787682, 'od_type': 'Iter', 'od_wait': 33}. Best is trial 1 with value: 0.7877094972067039.\n",
            "[I 2025-02-12 18:13:34,913] Trial 65 finished with value: 0.8100558659217877 and parameters: {'iterations': 964, 'learning_rate': 0.006178875562500256, 'depth': 7, 'l2_leaf_reg': 4.036519277158206e-07, 'border_count': 110, 'random_strength': 6.2782981243231355e-06, 'bagging_temperature': 0.7852328945371307, 'od_type': 'Iter', 'od_wait': 13}. Best is trial 1 with value: 0.7877094972067039.\n",
            "[I 2025-02-12 18:13:35,396] Trial 66 finished with value: 0.8212290502793296 and parameters: {'iterations': 540, 'learning_rate': 0.010532685338246696, 'depth': 9, 'l2_leaf_reg': 4.2496841504433993e-05, 'border_count': 94, 'random_strength': 1.77863840790246e-05, 'bagging_temperature': 1.7456159855911393, 'od_type': 'Iter', 'od_wait': 39}. Best is trial 1 with value: 0.7877094972067039.\n",
            "[I 2025-02-12 18:13:37,017] Trial 67 finished with value: 0.8212290502793296 and parameters: {'iterations': 769, 'learning_rate': 0.004423972528941429, 'depth': 10, 'l2_leaf_reg': 0.0004405193745995062, 'border_count': 183, 'random_strength': 2.9647727525255635e-09, 'bagging_temperature': 3.311098462294656, 'od_type': 'IncToDec', 'od_wait': 31}. Best is trial 1 with value: 0.7877094972067039.\n",
            "[I 2025-02-12 18:13:37,693] Trial 68 finished with value: 0.8268156424581006 and parameters: {'iterations': 255, 'learning_rate': 0.01784101416143611, 'depth': 9, 'l2_leaf_reg': 1.0479274549284168e-05, 'border_count': 121, 'random_strength': 3.21882892293457e-07, 'bagging_temperature': 9.766379639352616, 'od_type': 'Iter', 'od_wait': 41}. Best is trial 1 with value: 0.7877094972067039.\n",
            "[I 2025-02-12 18:13:39,101] Trial 69 finished with value: 0.8100558659217877 and parameters: {'iterations': 927, 'learning_rate': 0.006536431892786453, 'depth': 7, 'l2_leaf_reg': 0.0897545815887124, 'border_count': 166, 'random_strength': 7.940196788675195e-08, 'bagging_temperature': 9.146772986891081, 'od_type': 'IncToDec', 'od_wait': 36}. Best is trial 1 with value: 0.7877094972067039.\n",
            "[I 2025-02-12 18:13:39,849] Trial 70 finished with value: 0.8100558659217877 and parameters: {'iterations': 854, 'learning_rate': 0.08083178649385503, 'depth': 8, 'l2_leaf_reg': 0.21515229551376433, 'border_count': 213, 'random_strength': 0.0003592456148994602, 'bagging_temperature': 2.5459122696275918, 'od_type': 'Iter', 'od_wait': 24}. Best is trial 1 with value: 0.7877094972067039.\n",
            "[I 2025-02-12 18:13:44,694] Trial 71 finished with value: 0.8156424581005587 and parameters: {'iterations': 590, 'learning_rate': 0.0010779477250199173, 'depth': 10, 'l2_leaf_reg': 3.0715151414738465e-08, 'border_count': 198, 'random_strength': 5.793803633377767e-05, 'bagging_temperature': 0.7024382521262816, 'od_type': 'Iter', 'od_wait': 12}. Best is trial 1 with value: 0.7877094972067039.\n",
            "[I 2025-02-12 18:13:48,528] Trial 72 finished with value: 0.8100558659217877 and parameters: {'iterations': 618, 'learning_rate': 0.001344428988703133, 'depth': 10, 'l2_leaf_reg': 1.828005972498336e-08, 'border_count': 189, 'random_strength': 0.012764675025559101, 'bagging_temperature': 3.142685888085125, 'od_type': 'Iter', 'od_wait': 16}. Best is trial 1 with value: 0.7877094972067039.\n",
            "[I 2025-02-12 18:13:48,985] Trial 73 finished with value: 0.7988826815642458 and parameters: {'iterations': 156, 'learning_rate': 0.0010059539614956105, 'depth': 10, 'l2_leaf_reg': 1.3120188031665001e-08, 'border_count': 194, 'random_strength': 2.018456599576133, 'bagging_temperature': 2.744514336578966, 'od_type': 'Iter', 'od_wait': 16}. Best is trial 1 with value: 0.7877094972067039.\n",
            "[I 2025-02-12 18:13:52,620] Trial 74 finished with value: 0.8100558659217877 and parameters: {'iterations': 669, 'learning_rate': 0.001469578259679063, 'depth': 10, 'l2_leaf_reg': 5.4944282566413026e-08, 'border_count': 173, 'random_strength': 5.2967583390807515e-06, 'bagging_temperature': 1.9709832824455429, 'od_type': 'Iter', 'od_wait': 14}. Best is trial 1 with value: 0.7877094972067039.\n",
            "[I 2025-02-12 18:13:54,056] Trial 75 finished with value: 0.8100558659217877 and parameters: {'iterations': 475, 'learning_rate': 0.0012255982538437586, 'depth': 6, 'l2_leaf_reg': 1.0441860010950521e-07, 'border_count': 216, 'random_strength': 6.010178436018729e-05, 'bagging_temperature': 1.206506947204267, 'od_type': 'Iter', 'od_wait': 11}. Best is trial 1 with value: 0.7877094972067039.\n",
            "[I 2025-02-12 18:13:55,063] Trial 76 finished with value: 0.8100558659217877 and parameters: {'iterations': 721, 'learning_rate': 0.04172032598956915, 'depth': 9, 'l2_leaf_reg': 1.043084301475341e-08, 'border_count': 226, 'random_strength': 1.604028778864935e-06, 'bagging_temperature': 3.7207178969855477, 'od_type': 'IncToDec', 'od_wait': 19}. Best is trial 1 with value: 0.7877094972067039.\n",
            "[I 2025-02-12 18:13:56,547] Trial 77 finished with value: 0.7988826815642458 and parameters: {'iterations': 980, 'learning_rate': 0.0019935962758726887, 'depth': 4, 'l2_leaf_reg': 2.249449744337432e-07, 'border_count': 205, 'random_strength': 2.359321156273984e-08, 'bagging_temperature': 4.538058246894082, 'od_type': 'Iter', 'od_wait': 15}. Best is trial 1 with value: 0.7877094972067039.\n",
            "[I 2025-02-12 18:13:58,734] Trial 78 finished with value: 0.8156424581005587 and parameters: {'iterations': 541, 'learning_rate': 0.0025341207163974556, 'depth': 10, 'l2_leaf_reg': 1.5030302491758696e-06, 'border_count': 148, 'random_strength': 0.00018648953186496382, 'bagging_temperature': 7.221370531529494, 'od_type': 'IncToDec', 'od_wait': 35}. Best is trial 1 with value: 0.7877094972067039.\n",
            "[I 2025-02-12 18:14:00,627] Trial 79 finished with value: 0.8156424581005587 and parameters: {'iterations': 611, 'learning_rate': 0.0011390341698727475, 'depth': 9, 'l2_leaf_reg': 0.00010374008112468056, 'border_count': 154, 'random_strength': 6.618034132201588e-07, 'bagging_temperature': 9.351293461298027, 'od_type': 'Iter', 'od_wait': 33}. Best is trial 1 with value: 0.7877094972067039.\n",
            "[I 2025-02-12 18:14:01,610] Trial 80 finished with value: 0.8100558659217877 and parameters: {'iterations': 897, 'learning_rate': 0.001846050512918123, 'depth': 7, 'l2_leaf_reg': 5.875964152091965e-07, 'border_count': 179, 'random_strength': 0.000549425910508227, 'bagging_temperature': 8.623628951484672, 'od_type': 'IncToDec', 'od_wait': 38}. Best is trial 1 with value: 0.7877094972067039.\n",
            "[I 2025-02-12 18:14:02,147] Trial 81 finished with value: 0.8156424581005587 and parameters: {'iterations': 129, 'learning_rate': 0.0010921180842090245, 'depth': 10, 'l2_leaf_reg': 1.1205096117522677e-08, 'border_count': 194, 'random_strength': 1.1126944688908191, 'bagging_temperature': 2.756862621284197, 'od_type': 'Iter', 'od_wait': 16}. Best is trial 1 with value: 0.7877094972067039.\n",
            "[I 2025-02-12 18:14:02,630] Trial 82 finished with value: 0.7988826815642458 and parameters: {'iterations': 161, 'learning_rate': 0.0014177377265030878, 'depth': 10, 'l2_leaf_reg': 2.3924435053890303e-08, 'border_count': 193, 'random_strength': 4.217695160998032, 'bagging_temperature': 2.331824478836246, 'od_type': 'Iter', 'od_wait': 11}. Best is trial 1 with value: 0.7877094972067039.\n",
            "[I 2025-02-12 18:14:03,672] Trial 83 finished with value: 0.8268156424581006 and parameters: {'iterations': 178, 'learning_rate': 0.0010080804300118065, 'depth': 10, 'l2_leaf_reg': 4.611764440323543e-08, 'border_count': 184, 'random_strength': 0.10019779528317983, 'bagging_temperature': 2.979431966064749, 'od_type': 'Iter', 'od_wait': 13}. Best is trial 1 with value: 0.7877094972067039.\n",
            "[I 2025-02-12 18:14:04,384] Trial 84 finished with value: 0.8100558659217877 and parameters: {'iterations': 246, 'learning_rate': 0.0015318396414271823, 'depth': 10, 'l2_leaf_reg': 8.49780564948986e-08, 'border_count': 134, 'random_strength': 9.543475162826526, 'bagging_temperature': 4.030515658036765, 'od_type': 'Iter', 'od_wait': 29}. Best is trial 1 with value: 0.7877094972067039.\n",
            "[I 2025-02-12 18:14:06,109] Trial 85 finished with value: 0.8212290502793296 and parameters: {'iterations': 305, 'learning_rate': 0.00120110605199756, 'depth': 10, 'l2_leaf_reg': 5.071238207898415e-06, 'border_count': 201, 'random_strength': 0.28192120915830604, 'bagging_temperature': 2.558434501668377, 'od_type': 'Iter', 'od_wait': 31}. Best is trial 1 with value: 0.7877094972067039.\n",
            "[I 2025-02-12 18:14:06,330] Trial 86 finished with value: 0.7932960893854749 and parameters: {'iterations': 149, 'learning_rate': 0.002989334513290599, 'depth': 5, 'l2_leaf_reg': 4.807976679465411, 'border_count': 191, 'random_strength': 1.4300514585867194, 'bagging_temperature': 6.125054255119035, 'od_type': 'Iter', 'od_wait': 15}. Best is trial 1 with value: 0.7877094972067039.\n",
            "[I 2025-02-12 18:14:07,109] Trial 87 finished with value: 0.8100558659217877 and parameters: {'iterations': 364, 'learning_rate': 0.003066139355251055, 'depth': 5, 'l2_leaf_reg': 4.330226122841944, 'border_count': 162, 'random_strength': 0.8599977661210686, 'bagging_temperature': 5.452904102819456, 'od_type': 'IncToDec', 'od_wait': 27}. Best is trial 1 with value: 0.7877094972067039.\n",
            "[I 2025-02-12 18:14:08,121] Trial 88 finished with value: 0.8100558659217877 and parameters: {'iterations': 412, 'learning_rate': 0.0022253712339968053, 'depth': 5, 'l2_leaf_reg': 3.114403472368759, 'border_count': 173, 'random_strength': 1.6255366228941754e-05, 'bagging_temperature': 5.955648770232181, 'od_type': 'Iter', 'od_wait': 22}. Best is trial 1 with value: 0.7877094972067039.\n",
            "[I 2025-02-12 18:14:09,428] Trial 89 finished with value: 0.8212290502793296 and parameters: {'iterations': 564, 'learning_rate': 0.0056088050993371745, 'depth': 5, 'l2_leaf_reg': 1.1825779927312368, 'border_count': 126, 'random_strength': 1.757324181107841e-09, 'bagging_temperature': 6.338191725686622, 'od_type': 'IncToDec', 'od_wait': 14}. Best is trial 1 with value: 0.7877094972067039.\n",
            "[I 2025-02-12 18:14:10,739] Trial 90 finished with value: 0.8044692737430168 and parameters: {'iterations': 675, 'learning_rate': 0.004849178681093709, 'depth': 6, 'l2_leaf_reg': 0.537597433881895, 'border_count': 207, 'random_strength': 0.03483093100159003, 'bagging_temperature': 6.720692407818528, 'od_type': 'IncToDec', 'od_wait': 11}. Best is trial 1 with value: 0.7877094972067039.\n",
            "[I 2025-02-12 18:14:11,024] Trial 91 finished with value: 0.7932960893854749 and parameters: {'iterations': 216, 'learning_rate': 0.0016126768426144044, 'depth': 5, 'l2_leaf_reg': 8.531835016354194, 'border_count': 193, 'random_strength': 1.4973982903712149, 'bagging_temperature': 7.474454942857811, 'od_type': 'Iter', 'od_wait': 16}. Best is trial 1 with value: 0.7877094972067039.\n",
            "[I 2025-02-12 18:14:11,335] Trial 92 finished with value: 0.7988826815642458 and parameters: {'iterations': 215, 'learning_rate': 0.00166743588880787, 'depth': 5, 'l2_leaf_reg': 8.331370746468282, 'border_count': 186, 'random_strength': 4.211081648101809, 'bagging_temperature': 7.03050293016739, 'od_type': 'Iter', 'od_wait': 19}. Best is trial 1 with value: 0.7877094972067039.\n",
            "[I 2025-02-12 18:14:11,534] Trial 93 finished with value: 0.7932960893854749 and parameters: {'iterations': 126, 'learning_rate': 0.0068627693897412075, 'depth': 5, 'l2_leaf_reg': 2.5105406788957456, 'border_count': 180, 'random_strength': 2.301663624418743, 'bagging_temperature': 8.012126606882411, 'od_type': 'Iter', 'od_wait': 15}. Best is trial 1 with value: 0.7877094972067039.\n",
            "[I 2025-02-12 18:14:11,810] Trial 94 finished with value: 0.8044692737430168 and parameters: {'iterations': 233, 'learning_rate': 0.00801750671438363, 'depth': 4, 'l2_leaf_reg': 2.2005143945263694, 'border_count': 180, 'random_strength': 1.6684622908156692, 'bagging_temperature': 7.859189954010198, 'od_type': 'Iter', 'od_wait': 17}. Best is trial 1 with value: 0.7877094972067039.\n",
            "[I 2025-02-12 18:14:12,186] Trial 95 finished with value: 0.8156424581005587 and parameters: {'iterations': 276, 'learning_rate': 0.009164375203935265, 'depth': 5, 'l2_leaf_reg': 0.8139068965915681, 'border_count': 168, 'random_strength': 0.44458272646029484, 'bagging_temperature': 7.571344156470305, 'od_type': 'Iter', 'od_wait': 15}. Best is trial 1 with value: 0.7877094972067039.\n",
            "[I 2025-02-12 18:14:12,381] Trial 96 finished with value: 0.7877094972067039 and parameters: {'iterations': 129, 'learning_rate': 0.0043812836018891285, 'depth': 6, 'l2_leaf_reg': 8.025246967795331, 'border_count': 189, 'random_strength': 6.0809614436213195, 'bagging_temperature': 8.077533092769153, 'od_type': 'Iter', 'od_wait': 18}. Best is trial 1 with value: 0.7877094972067039.\n",
            "[I 2025-02-12 18:14:12,577] Trial 97 finished with value: 0.7932960893854749 and parameters: {'iterations': 130, 'learning_rate': 0.004278193851264798, 'depth': 6, 'l2_leaf_reg': 6.347786247317538, 'border_count': 190, 'random_strength': 3.1598186335045173, 'bagging_temperature': 8.07147296048652, 'od_type': 'IncToDec', 'od_wait': 20}. Best is trial 1 with value: 0.7877094972067039.\n",
            "[I 2025-02-12 18:14:12,764] Trial 98 finished with value: 0.7877094972067039 and parameters: {'iterations': 123, 'learning_rate': 0.004045137419197316, 'depth': 6, 'l2_leaf_reg': 7.661851174383155, 'border_count': 190, 'random_strength': 6.16509700030497, 'bagging_temperature': 7.436989365588871, 'od_type': 'Iter', 'od_wait': 18}. Best is trial 1 with value: 0.7877094972067039.\n",
            "[I 2025-02-12 18:14:12,959] Trial 99 finished with value: 0.7877094972067039 and parameters: {'iterations': 129, 'learning_rate': 0.0038517839017155266, 'depth': 6, 'l2_leaf_reg': 6.4190398601325676, 'border_count': 190, 'random_strength': 5.298038423964027, 'bagging_temperature': 8.170118422441812, 'od_type': 'Iter', 'od_wait': 20}. Best is trial 1 with value: 0.7877094972067039.\n"
          ]
        }
      ]
    },
    {
      "cell_type": "code",
      "source": [
        "# Model Training and Prediction\n",
        "model = CatBoostClassifier(**best_params, verbose=False)  # Use best hyperparameters\n",
        "model.fit(X_train, y_train)\n",
        "\n",
        "predictions = model.predict(test_df)"
      ],
      "metadata": {
        "id": "3wJDNMKRdBnv"
      },
      "execution_count": 14,
      "outputs": []
    },
    {
      "cell_type": "code",
      "source": [
        "# Evaluate accuracy on validation set\n",
        "val_predictions = model.predict(X_val)\n",
        "\n",
        "# Calculate RMSE without 'squared' argument and take the square root manually\n",
        "rmse = mean_squared_error(y_val, val_predictions)**0.5\n",
        "\n",
        "print(f\"Validation RMSE: {rmse}\")"
      ],
      "metadata": {
        "id": "yd_L3NykzIOr",
        "colab": {
          "base_uri": "https://localhost:8080/"
        },
        "outputId": "c960575d-b942-47ae-ed31-53f940796aaa"
      },
      "execution_count": 15,
      "outputs": [
        {
          "output_type": "stream",
          "name": "stdout",
          "text": [
            "Validation RMSE: 0.43582580703557733\n"
          ]
        }
      ]
    },
    {
      "cell_type": "code",
      "source": [
        "# Create submission DataFrame with 'PassengerId' from original test data\n",
        "submission_df = pd.DataFrame({'PassengerId': pd.read_csv('/content/test.csv')['PassengerId'], 'Survived': predictions})\n",
        "submission_df.to_csv('submission.csv', index=False)"
      ],
      "metadata": {
        "id": "LdRFTdmCd4ws"
      },
      "execution_count": 17,
      "outputs": []
    },
    {
      "cell_type": "code",
      "source": [],
      "metadata": {
        "id": "g4dHEG6qDVlH"
      },
      "execution_count": null,
      "outputs": []
    }
  ]
}