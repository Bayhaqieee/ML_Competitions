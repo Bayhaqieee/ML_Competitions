{
  "nbformat": 4,
  "nbformat_minor": 0,
  "metadata": {
    "colab": {
      "provenance": [],
      "mount_file_id": "1eh4_x1ilJT1d9z2LMdpasRVevN9CgRY-",
      "authorship_tag": "ABX9TyPa4QQcKDIOnGhvozwGJSzd"
    },
    "kernelspec": {
      "name": "python3",
      "display_name": "Python 3"
    },
    "language_info": {
      "name": "python"
    }
  },
  "cells": [
    {
      "cell_type": "markdown",
      "source": [
        "##Import Libraries"
      ],
      "metadata": {
        "id": "pHYjh9tiUUTe"
      }
    },
    {
      "cell_type": "code",
      "execution_count": null,
      "metadata": {
        "id": "XIm-nDMfR7zu"
      },
      "outputs": [],
      "source": [
        "import cv2\n",
        "   import numpy as np\n",
        "   from google.colab.patches import cv2_imshow # for image display in Colab"
      ]
    },
    {
      "cell_type": "markdown",
      "source": [
        "`cv2`: OpenCV library yang digunakan untuk Pengolahan Citra.\n",
        "\n",
        "`numpy`: Untuk operasi numerikal dalam larik.\n",
        "\n",
        "`cv2_imshow` is specifically used for image display in Google Colab because normal `cv2.imshow()` will not work."
      ],
      "metadata": {
        "id": "JxO1xJmUUan6"
      }
    },
    {
      "cell_type": "code",
      "source": [
        "image = cv2.imread('/content/drive/MyDrive/Misc./FB_IMG_1726550246702.jpg', cv2.IMREAD_GRAYSCALE)"
      ],
      "metadata": {
        "id": "00sDa183UaA1"
      },
      "execution_count": null,
      "outputs": []
    },
    {
      "cell_type": "markdown",
      "source": [
        "##Edge Detection Operators\n",
        "\n",
        "---\n"
      ],
      "metadata": {
        "id": "OIyx9NPLeZd7"
      }
    },
    {
      "cell_type": "markdown",
      "source": [
        "###Operator Sobel"
      ],
      "metadata": {
        "id": "GiW_hWhJqpLP"
      }
    },
    {
      "cell_type": "code",
      "source": [
        "sobel_x = cv2.Sobel(image, cv2.CV_64F, 1, 0, ksize=5)  # x-direction\n",
        "     sobel_y = cv2.Sobel(image, cv2.CV_64F, 0, 1, ksize=5)  # y-direction\n",
        "     sobel_edges = cv2.magnitude(sobel_x, sobel_y) # Combine x and y edges"
      ],
      "metadata": {
        "id": "uUg8b7ZZqmWq"
      },
      "execution_count": null,
      "outputs": []
    },
    {
      "cell_type": "markdown",
      "source": [
        "###Operator Prewitt"
      ],
      "metadata": {
        "id": "gn4nKNTIq4Lp"
      }
    },
    {
      "cell_type": "code",
      "source": [
        "kernelx = np.array([[1,1,1],[0,0,0],[-1,-1,-1]])\n",
        "     kernely = np.array([[-1,0,1],[-1,0,1],[-1,0,1]])\n",
        "     prewitt_x = cv2.filter2D(image, -1, kernelx)\n",
        "     prewitt_y = cv2.filter2D(image, -1, kernely)\n",
        "     prewitt_edges = cv2.magnitude(prewitt_x, prewitt_y)"
      ],
      "metadata": {
        "id": "tPUA4-bwjCOG"
      },
      "execution_count": null,
      "outputs": []
    },
    {
      "cell_type": "markdown",
      "source": [
        "###Operator Roberts"
      ],
      "metadata": {
        "id": "GGS87m0Mq73N"
      }
    },
    {
      "cell_type": "code",
      "source": [
        "kernelx = np.array([[1, 0], [0, -1]])\n",
        "     kernely = np.array([[0, 1], [-1, 0]])\n",
        "     roberts_x = cv2.filter2D(image, -1, kernelx)\n",
        "     roberts_y = cv2.filter2D(image, -1, kernely)\n",
        "     roberts_edges = cv2.magnitude(roberts_x, roberts_y)"
      ],
      "metadata": {
        "id": "h1qMfGRAecIo"
      },
      "execution_count": null,
      "outputs": []
    },
    {
      "cell_type": "markdown",
      "source": [
        "###Operator Canny"
      ],
      "metadata": {
        "id": "refraCuuq_6B"
      }
    },
    {
      "cell_type": "code",
      "source": [
        "canny_edges = cv2.Canny(image, 100, 200)"
      ],
      "metadata": {
        "id": "-kVVe-dMrSzn"
      },
      "execution_count": null,
      "outputs": []
    },
    {
      "cell_type": "markdown",
      "source": [
        "###Result"
      ],
      "metadata": {
        "id": "c8eDJqvTrkdm"
      }
    },
    {
      "cell_type": "code",
      "source": [
        "cv2_imshow(image)\n",
        "   cv2_imshow(sobel_edges)\n",
        "   cv2_imshow(prewitt_edges)\n",
        "   cv2_imshow(roberts_edges)\n",
        "   cv2_imshow(canny_edges)"
      ],
      "metadata": {
        "id": "-x6Y-8V0rmQ1"
      },
      "execution_count": null,
      "outputs": []
    }
  ]
}